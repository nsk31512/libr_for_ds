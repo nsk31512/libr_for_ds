{
  "nbformat": 4,
  "nbformat_minor": 0,
  "metadata": {
    "colab": {
      "name": "Homework1.ipynb",
      "provenance": [],
      "authorship_tag": "ABX9TyMm93gLYehQmz2/pz9cxk54",
      "include_colab_link": true
    },
    "kernelspec": {
      "name": "python3",
      "display_name": "Python 3"
    },
    "language_info": {
      "name": "python"
    }
  },
  "cells": [
    {
      "cell_type": "markdown",
      "metadata": {
        "id": "view-in-github",
        "colab_type": "text"
      },
      "source": [
        "<a href=\"https://colab.research.google.com/github/nsk31512/libr_for_ds/blob/homework1/Homework1.ipynb\" target=\"_parent\"><img src=\"https://colab.research.google.com/assets/colab-badge.svg\" alt=\"Open In Colab\"/></a>"
      ]
    },
    {
      "cell_type": "markdown",
      "metadata": {
        "id": "ECpeFajnzxri"
      },
      "source": [
        "#Numpy"
      ]
    },
    {
      "cell_type": "markdown",
      "metadata": {
        "id": "DRjPuWve22Cg"
      },
      "source": [
        "###Задание 1"
      ]
    },
    {
      "cell_type": "code",
      "metadata": {
        "id": "NQn0fqTJjwN-"
      },
      "source": [
        "import numpy as np"
      ],
      "execution_count": 1,
      "outputs": []
    },
    {
      "cell_type": "code",
      "metadata": {
        "id": "NBmzuGPmj0pa"
      },
      "source": [
        "a = np.array([[1, 6],\n",
        "             [2, 8],\n",
        "              [3, 11],\n",
        "              [3, 10],\n",
        "              [1, 7]])"
      ],
      "execution_count": 2,
      "outputs": []
    },
    {
      "cell_type": "code",
      "metadata": {
        "colab": {
          "base_uri": "https://localhost:8080/"
        },
        "id": "BYehe17DknCU",
        "outputId": "2e618c60-7d82-4612-8b22-eeb53f3f0618"
      },
      "source": [
        "mean_a = a.mean(axis=0)\n",
        "print(mean_a)"
      ],
      "execution_count": 3,
      "outputs": [
        {
          "output_type": "stream",
          "name": "stdout",
          "text": [
            "[2.  8.4]\n"
          ]
        }
      ]
    },
    {
      "cell_type": "markdown",
      "metadata": {
        "id": "2aNnhhmy4NyP"
      },
      "source": [
        "###Задание 2\n"
      ]
    },
    {
      "cell_type": "code",
      "metadata": {
        "colab": {
          "base_uri": "https://localhost:8080/"
        },
        "id": "P1tns-4P4QuA",
        "outputId": "d3ab851b-7ea7-4f26-83b5-d9dea9fcc572"
      },
      "source": [
        "a_centered = a - mean_a\n",
        "print(a_centered)"
      ],
      "execution_count": 4,
      "outputs": [
        {
          "output_type": "stream",
          "name": "stdout",
          "text": [
            "[[-1.  -2.4]\n",
            " [ 0.  -0.4]\n",
            " [ 1.   2.6]\n",
            " [ 1.   1.6]\n",
            " [-1.  -1.4]]\n"
          ]
        }
      ]
    },
    {
      "cell_type": "markdown",
      "metadata": {
        "id": "0OB_JY6c58nk"
      },
      "source": [
        "###Задание 3"
      ]
    },
    {
      "cell_type": "code",
      "metadata": {
        "colab": {
          "base_uri": "https://localhost:8080/"
        },
        "id": "wiuZwVII5_Jb",
        "outputId": "1f43d1bd-3da1-465f-dbe5-0bcf45036b51"
      },
      "source": [
        "a_centered[0:, 0]"
      ],
      "execution_count": 5,
      "outputs": [
        {
          "output_type": "execute_result",
          "data": {
            "text/plain": [
              "array([-1.,  0.,  1.,  1., -1.])"
            ]
          },
          "metadata": {},
          "execution_count": 5
        }
      ]
    },
    {
      "cell_type": "code",
      "metadata": {
        "colab": {
          "base_uri": "https://localhost:8080/"
        },
        "id": "EeM5dNLM8qj7",
        "outputId": "53c4c1fb-51bc-4335-cf45-0cc0027b5ac4"
      },
      "source": [
        "a_centered[0:, 1]"
      ],
      "execution_count": 6,
      "outputs": [
        {
          "output_type": "execute_result",
          "data": {
            "text/plain": [
              "array([-2.4, -0.4,  2.6,  1.6, -1.4])"
            ]
          },
          "metadata": {},
          "execution_count": 6
        }
      ]
    },
    {
      "cell_type": "code",
      "metadata": {
        "colab": {
          "base_uri": "https://localhost:8080/"
        },
        "id": "M_MkRMwN8dVu",
        "outputId": "effb2674-2275-4bf8-8f4b-4d92b9db6ffd"
      },
      "source": [
        "a_centered_sp = a_centered[0:, 0] @ a_centered[0:, 1]\n",
        "a_centered_sp"
      ],
      "execution_count": 7,
      "outputs": [
        {
          "output_type": "execute_result",
          "data": {
            "text/plain": [
              "8.0"
            ]
          },
          "metadata": {},
          "execution_count": 7
        }
      ]
    },
    {
      "cell_type": "code",
      "metadata": {
        "colab": {
          "base_uri": "https://localhost:8080/"
        },
        "id": "JGbMnuAC8xYu",
        "outputId": "444d8a66-ee59-4bca-ad50-7236198e2e91"
      },
      "source": [
        "print(a_centered_sp/4)"
      ],
      "execution_count": 8,
      "outputs": [
        {
          "output_type": "stream",
          "name": "stdout",
          "text": [
            "2.0\n"
          ]
        }
      ]
    },
    {
      "cell_type": "markdown",
      "metadata": {
        "id": "aWXNwiOJxEBH"
      },
      "source": [
        "##Задание 4**\n"
      ]
    },
    {
      "cell_type": "code",
      "metadata": {
        "colab": {
          "base_uri": "https://localhost:8080/"
        },
        "id": "ovBPjJdCxH76",
        "outputId": "e2f47682-9952-4dfb-86c0-c3ec0bcab8ed"
      },
      "source": [
        "a_cov = np.cov(a.T)\n",
        "a_cov[0, 1]"
      ],
      "execution_count": 9,
      "outputs": [
        {
          "output_type": "execute_result",
          "data": {
            "text/plain": [
              "2.0"
            ]
          },
          "metadata": {},
          "execution_count": 9
        }
      ]
    },
    {
      "cell_type": "markdown",
      "metadata": {
        "id": "bLIRV_frzmK2"
      },
      "source": [
        "#Pandas"
      ]
    },
    {
      "cell_type": "markdown",
      "metadata": {
        "id": "_R2NwblKDKWn"
      },
      "source": [
        "###Задание 1"
      ]
    },
    {
      "cell_type": "code",
      "metadata": {
        "id": "dwEzGHMMzqug"
      },
      "source": [
        "import pandas as pd"
      ],
      "execution_count": 10,
      "outputs": []
    },
    {
      "cell_type": "code",
      "metadata": {
        "colab": {
          "base_uri": "https://localhost:8080/",
          "height": 142
        },
        "id": "NVknVU6hBitX",
        "outputId": "be65f623-3488-4d0a-95ef-6c8cf67101cd"
      },
      "source": [
        "authors = pd.DataFrame(\n",
        "    {\n",
        "        'author_id': [1, 2, 3],\n",
        "        'author_name': ['Тургенев', 'Чехов', 'Островский'],\n",
        "    }\n",
        ")\n",
        "authors"
      ],
      "execution_count": 11,
      "outputs": [
        {
          "output_type": "execute_result",
          "data": {
            "text/html": [
              "<div>\n",
              "<style scoped>\n",
              "    .dataframe tbody tr th:only-of-type {\n",
              "        vertical-align: middle;\n",
              "    }\n",
              "\n",
              "    .dataframe tbody tr th {\n",
              "        vertical-align: top;\n",
              "    }\n",
              "\n",
              "    .dataframe thead th {\n",
              "        text-align: right;\n",
              "    }\n",
              "</style>\n",
              "<table border=\"1\" class=\"dataframe\">\n",
              "  <thead>\n",
              "    <tr style=\"text-align: right;\">\n",
              "      <th></th>\n",
              "      <th>author_id</th>\n",
              "      <th>author_name</th>\n",
              "    </tr>\n",
              "  </thead>\n",
              "  <tbody>\n",
              "    <tr>\n",
              "      <th>0</th>\n",
              "      <td>1</td>\n",
              "      <td>Тургенев</td>\n",
              "    </tr>\n",
              "    <tr>\n",
              "      <th>1</th>\n",
              "      <td>2</td>\n",
              "      <td>Чехов</td>\n",
              "    </tr>\n",
              "    <tr>\n",
              "      <th>2</th>\n",
              "      <td>3</td>\n",
              "      <td>Островский</td>\n",
              "    </tr>\n",
              "  </tbody>\n",
              "</table>\n",
              "</div>"
            ],
            "text/plain": [
              "   author_id author_name\n",
              "0          1    Тургенев\n",
              "1          2       Чехов\n",
              "2          3  Островский"
            ]
          },
          "metadata": {},
          "execution_count": 11
        }
      ]
    },
    {
      "cell_type": "code",
      "metadata": {
        "colab": {
          "base_uri": "https://localhost:8080/",
          "height": 266
        },
        "id": "hTJM3-vXCFLj",
        "outputId": "edeb8cea-e27d-4cc3-ab36-0cc0b8bc9eab"
      },
      "source": [
        "book = pd.DataFrame(\n",
        "    {\n",
        "       'author_id': [1, 1, 1, 2, 2, 3, 3], \n",
        "       'book_title': ['Отцы и дети', 'Рудин', 'Дворянское гнездо', 'Толстый и тонкий', 'Дама с собачкой', 'Гроза', 'Таланты и поклонники'],\n",
        "       'price': [450, 300, 350, 500, 450, 370, 290],\n",
        "    }\n",
        ")\n",
        "book"
      ],
      "execution_count": 12,
      "outputs": [
        {
          "output_type": "execute_result",
          "data": {
            "text/html": [
              "<div>\n",
              "<style scoped>\n",
              "    .dataframe tbody tr th:only-of-type {\n",
              "        vertical-align: middle;\n",
              "    }\n",
              "\n",
              "    .dataframe tbody tr th {\n",
              "        vertical-align: top;\n",
              "    }\n",
              "\n",
              "    .dataframe thead th {\n",
              "        text-align: right;\n",
              "    }\n",
              "</style>\n",
              "<table border=\"1\" class=\"dataframe\">\n",
              "  <thead>\n",
              "    <tr style=\"text-align: right;\">\n",
              "      <th></th>\n",
              "      <th>author_id</th>\n",
              "      <th>book_title</th>\n",
              "      <th>price</th>\n",
              "    </tr>\n",
              "  </thead>\n",
              "  <tbody>\n",
              "    <tr>\n",
              "      <th>0</th>\n",
              "      <td>1</td>\n",
              "      <td>Отцы и дети</td>\n",
              "      <td>450</td>\n",
              "    </tr>\n",
              "    <tr>\n",
              "      <th>1</th>\n",
              "      <td>1</td>\n",
              "      <td>Рудин</td>\n",
              "      <td>300</td>\n",
              "    </tr>\n",
              "    <tr>\n",
              "      <th>2</th>\n",
              "      <td>1</td>\n",
              "      <td>Дворянское гнездо</td>\n",
              "      <td>350</td>\n",
              "    </tr>\n",
              "    <tr>\n",
              "      <th>3</th>\n",
              "      <td>2</td>\n",
              "      <td>Толстый и тонкий</td>\n",
              "      <td>500</td>\n",
              "    </tr>\n",
              "    <tr>\n",
              "      <th>4</th>\n",
              "      <td>2</td>\n",
              "      <td>Дама с собачкой</td>\n",
              "      <td>450</td>\n",
              "    </tr>\n",
              "    <tr>\n",
              "      <th>5</th>\n",
              "      <td>3</td>\n",
              "      <td>Гроза</td>\n",
              "      <td>370</td>\n",
              "    </tr>\n",
              "    <tr>\n",
              "      <th>6</th>\n",
              "      <td>3</td>\n",
              "      <td>Таланты и поклонники</td>\n",
              "      <td>290</td>\n",
              "    </tr>\n",
              "  </tbody>\n",
              "</table>\n",
              "</div>"
            ],
            "text/plain": [
              "   author_id            book_title  price\n",
              "0          1           Отцы и дети    450\n",
              "1          1                 Рудин    300\n",
              "2          1     Дворянское гнездо    350\n",
              "3          2      Толстый и тонкий    500\n",
              "4          2       Дама с собачкой    450\n",
              "5          3                 Гроза    370\n",
              "6          3  Таланты и поклонники    290"
            ]
          },
          "metadata": {},
          "execution_count": 12
        }
      ]
    },
    {
      "cell_type": "markdown",
      "metadata": {
        "id": "I2bWhoXXDIC3"
      },
      "source": [
        ""
      ]
    },
    {
      "cell_type": "markdown",
      "metadata": {
        "id": "H10wr6s4DQRn"
      },
      "source": [
        "##Задание 2"
      ]
    },
    {
      "cell_type": "code",
      "metadata": {
        "colab": {
          "base_uri": "https://localhost:8080/",
          "height": 266
        },
        "id": "n8CjUyPdCkpR",
        "outputId": "dfbbe56a-e4f7-4f2a-f87e-b42c45e38c55"
      },
      "source": [
        "author_price = pd.merge(authors, book, how='outer', on='author_id')\n",
        "author_price"
      ],
      "execution_count": 13,
      "outputs": [
        {
          "output_type": "execute_result",
          "data": {
            "text/html": [
              "<div>\n",
              "<style scoped>\n",
              "    .dataframe tbody tr th:only-of-type {\n",
              "        vertical-align: middle;\n",
              "    }\n",
              "\n",
              "    .dataframe tbody tr th {\n",
              "        vertical-align: top;\n",
              "    }\n",
              "\n",
              "    .dataframe thead th {\n",
              "        text-align: right;\n",
              "    }\n",
              "</style>\n",
              "<table border=\"1\" class=\"dataframe\">\n",
              "  <thead>\n",
              "    <tr style=\"text-align: right;\">\n",
              "      <th></th>\n",
              "      <th>author_id</th>\n",
              "      <th>author_name</th>\n",
              "      <th>book_title</th>\n",
              "      <th>price</th>\n",
              "    </tr>\n",
              "  </thead>\n",
              "  <tbody>\n",
              "    <tr>\n",
              "      <th>0</th>\n",
              "      <td>1</td>\n",
              "      <td>Тургенев</td>\n",
              "      <td>Отцы и дети</td>\n",
              "      <td>450</td>\n",
              "    </tr>\n",
              "    <tr>\n",
              "      <th>1</th>\n",
              "      <td>1</td>\n",
              "      <td>Тургенев</td>\n",
              "      <td>Рудин</td>\n",
              "      <td>300</td>\n",
              "    </tr>\n",
              "    <tr>\n",
              "      <th>2</th>\n",
              "      <td>1</td>\n",
              "      <td>Тургенев</td>\n",
              "      <td>Дворянское гнездо</td>\n",
              "      <td>350</td>\n",
              "    </tr>\n",
              "    <tr>\n",
              "      <th>3</th>\n",
              "      <td>2</td>\n",
              "      <td>Чехов</td>\n",
              "      <td>Толстый и тонкий</td>\n",
              "      <td>500</td>\n",
              "    </tr>\n",
              "    <tr>\n",
              "      <th>4</th>\n",
              "      <td>2</td>\n",
              "      <td>Чехов</td>\n",
              "      <td>Дама с собачкой</td>\n",
              "      <td>450</td>\n",
              "    </tr>\n",
              "    <tr>\n",
              "      <th>5</th>\n",
              "      <td>3</td>\n",
              "      <td>Островский</td>\n",
              "      <td>Гроза</td>\n",
              "      <td>370</td>\n",
              "    </tr>\n",
              "    <tr>\n",
              "      <th>6</th>\n",
              "      <td>3</td>\n",
              "      <td>Островский</td>\n",
              "      <td>Таланты и поклонники</td>\n",
              "      <td>290</td>\n",
              "    </tr>\n",
              "  </tbody>\n",
              "</table>\n",
              "</div>"
            ],
            "text/plain": [
              "   author_id author_name            book_title  price\n",
              "0          1    Тургенев           Отцы и дети    450\n",
              "1          1    Тургенев                 Рудин    300\n",
              "2          1    Тургенев     Дворянское гнездо    350\n",
              "3          2       Чехов      Толстый и тонкий    500\n",
              "4          2       Чехов       Дама с собачкой    450\n",
              "5          3  Островский                 Гроза    370\n",
              "6          3  Островский  Таланты и поклонники    290"
            ]
          },
          "metadata": {},
          "execution_count": 13
        }
      ]
    },
    {
      "cell_type": "markdown",
      "metadata": {
        "id": "tyztObCwDbdO"
      },
      "source": [
        "##Задание 3"
      ]
    },
    {
      "cell_type": "code",
      "metadata": {
        "colab": {
          "base_uri": "https://localhost:8080/",
          "height": 204
        },
        "id": "t10-CaG_Ddjn",
        "outputId": "91508051-bb1f-45dc-c384-f82e46c7573b"
      },
      "source": [
        "top5 = author_price.sort_values('price', ascending = False).head()\n",
        "top5"
      ],
      "execution_count": 14,
      "outputs": [
        {
          "output_type": "execute_result",
          "data": {
            "text/html": [
              "<div>\n",
              "<style scoped>\n",
              "    .dataframe tbody tr th:only-of-type {\n",
              "        vertical-align: middle;\n",
              "    }\n",
              "\n",
              "    .dataframe tbody tr th {\n",
              "        vertical-align: top;\n",
              "    }\n",
              "\n",
              "    .dataframe thead th {\n",
              "        text-align: right;\n",
              "    }\n",
              "</style>\n",
              "<table border=\"1\" class=\"dataframe\">\n",
              "  <thead>\n",
              "    <tr style=\"text-align: right;\">\n",
              "      <th></th>\n",
              "      <th>author_id</th>\n",
              "      <th>author_name</th>\n",
              "      <th>book_title</th>\n",
              "      <th>price</th>\n",
              "    </tr>\n",
              "  </thead>\n",
              "  <tbody>\n",
              "    <tr>\n",
              "      <th>3</th>\n",
              "      <td>2</td>\n",
              "      <td>Чехов</td>\n",
              "      <td>Толстый и тонкий</td>\n",
              "      <td>500</td>\n",
              "    </tr>\n",
              "    <tr>\n",
              "      <th>0</th>\n",
              "      <td>1</td>\n",
              "      <td>Тургенев</td>\n",
              "      <td>Отцы и дети</td>\n",
              "      <td>450</td>\n",
              "    </tr>\n",
              "    <tr>\n",
              "      <th>4</th>\n",
              "      <td>2</td>\n",
              "      <td>Чехов</td>\n",
              "      <td>Дама с собачкой</td>\n",
              "      <td>450</td>\n",
              "    </tr>\n",
              "    <tr>\n",
              "      <th>5</th>\n",
              "      <td>3</td>\n",
              "      <td>Островский</td>\n",
              "      <td>Гроза</td>\n",
              "      <td>370</td>\n",
              "    </tr>\n",
              "    <tr>\n",
              "      <th>2</th>\n",
              "      <td>1</td>\n",
              "      <td>Тургенев</td>\n",
              "      <td>Дворянское гнездо</td>\n",
              "      <td>350</td>\n",
              "    </tr>\n",
              "  </tbody>\n",
              "</table>\n",
              "</div>"
            ],
            "text/plain": [
              "   author_id author_name         book_title  price\n",
              "3          2       Чехов   Толстый и тонкий    500\n",
              "0          1    Тургенев        Отцы и дети    450\n",
              "4          2       Чехов    Дама с собачкой    450\n",
              "5          3  Островский              Гроза    370\n",
              "2          1    Тургенев  Дворянское гнездо    350"
            ]
          },
          "metadata": {},
          "execution_count": 14
        }
      ]
    },
    {
      "cell_type": "markdown",
      "metadata": {
        "id": "jeP-sPzCD-8b"
      },
      "source": [
        "###Задание 4"
      ]
    },
    {
      "cell_type": "code",
      "metadata": {
        "id": "eXxcLcFREA9M",
        "colab": {
          "base_uri": "https://localhost:8080/",
          "height": 142
        },
        "outputId": "4d46e941-e236-41ff-e12e-7b3507497210"
      },
      "source": [
        "author_stat = author_price.drop('book_title', axis = 1)\n",
        "author_stat = author_stat.drop('author_id', axis = 1)\n",
        "\n",
        "author_stat_min = author_stat.copy()\n",
        "author_stat_min['min_price'] = author_stat_min['price']\n",
        "author_stat_min = author_stat_min.drop('price', axis=1)\n",
        "\n",
        "author_stat_max = author_stat.copy()\n",
        "author_stat_max['max_price'] = author_stat_max['price']\n",
        "author_stat_max = author_stat_max.drop('price', axis=1)\n",
        "\n",
        "\n",
        "author_stat_mean = author_stat.copy()\n",
        "author_stat_mean['mean_price'] = author_stat_mean['price']\n",
        "author_stat_mean = author_stat_mean.drop('price', axis=1)\n",
        "\n",
        "author_stat_min = author_stat_min.groupby(['author_name']).min()\n",
        "\n",
        "author_stat_max = author_stat_max.groupby(['author_name']).max()\n",
        "\n",
        "author_stat_mean = author_stat_mean.groupby(['author_name']).mean()\n",
        "\n",
        "author_stat = author_stat.drop('price', axis=1)\n",
        "author_stat = author_stat.drop_duplicates(['author_name'])\n",
        "author_stat = pd.merge(author_stat, author_stat_min, on='author_name')\n",
        "author_stat = pd.merge(author_stat, author_stat_max, on='author_name')\n",
        "author_stat = pd.merge(author_stat, author_stat_mean, on='author_name')\n",
        "author_stat\n"
      ],
      "execution_count": 128,
      "outputs": [
        {
          "output_type": "execute_result",
          "data": {
            "text/html": [
              "<div>\n",
              "<style scoped>\n",
              "    .dataframe tbody tr th:only-of-type {\n",
              "        vertical-align: middle;\n",
              "    }\n",
              "\n",
              "    .dataframe tbody tr th {\n",
              "        vertical-align: top;\n",
              "    }\n",
              "\n",
              "    .dataframe thead th {\n",
              "        text-align: right;\n",
              "    }\n",
              "</style>\n",
              "<table border=\"1\" class=\"dataframe\">\n",
              "  <thead>\n",
              "    <tr style=\"text-align: right;\">\n",
              "      <th></th>\n",
              "      <th>author_name</th>\n",
              "      <th>min_price</th>\n",
              "      <th>max_price</th>\n",
              "      <th>mean_price</th>\n",
              "    </tr>\n",
              "  </thead>\n",
              "  <tbody>\n",
              "    <tr>\n",
              "      <th>0</th>\n",
              "      <td>Тургенев</td>\n",
              "      <td>300</td>\n",
              "      <td>450</td>\n",
              "      <td>366.666667</td>\n",
              "    </tr>\n",
              "    <tr>\n",
              "      <th>1</th>\n",
              "      <td>Чехов</td>\n",
              "      <td>450</td>\n",
              "      <td>500</td>\n",
              "      <td>475.000000</td>\n",
              "    </tr>\n",
              "    <tr>\n",
              "      <th>2</th>\n",
              "      <td>Островский</td>\n",
              "      <td>290</td>\n",
              "      <td>370</td>\n",
              "      <td>330.000000</td>\n",
              "    </tr>\n",
              "  </tbody>\n",
              "</table>\n",
              "</div>"
            ],
            "text/plain": [
              "  author_name  min_price  max_price  mean_price\n",
              "0    Тургенев        300        450  366.666667\n",
              "1       Чехов        450        500  475.000000\n",
              "2  Островский        290        370  330.000000"
            ]
          },
          "metadata": {},
          "execution_count": 128
        }
      ]
    },
    {
      "cell_type": "markdown",
      "metadata": {
        "id": "GuhHBl2GT9w4"
      },
      "source": [
        "###Задание 5**"
      ]
    },
    {
      "cell_type": "code",
      "metadata": {
        "colab": {
          "base_uri": "https://localhost:8080/",
          "height": 173
        },
        "id": "fD1ihI0NT_oM",
        "outputId": "299d978f-b9f4-46e8-dd8c-759f567a77dd"
      },
      "source": [
        "author_price['cover'] = ['твердая', 'мягкая', 'мягкая', 'твердая', 'твердая', 'мягкая', 'мягкая']\n",
        "\n",
        "book_info = pd.pivot_table(author_price, values='price', index=['author_name'], columns=['cover'], aggfunc=np.sum, fill_value=0)\n",
        "book_info"
      ],
      "execution_count": 137,
      "outputs": [
        {
          "output_type": "execute_result",
          "data": {
            "text/html": [
              "<div>\n",
              "<style scoped>\n",
              "    .dataframe tbody tr th:only-of-type {\n",
              "        vertical-align: middle;\n",
              "    }\n",
              "\n",
              "    .dataframe tbody tr th {\n",
              "        vertical-align: top;\n",
              "    }\n",
              "\n",
              "    .dataframe thead th {\n",
              "        text-align: right;\n",
              "    }\n",
              "</style>\n",
              "<table border=\"1\" class=\"dataframe\">\n",
              "  <thead>\n",
              "    <tr style=\"text-align: right;\">\n",
              "      <th>cover</th>\n",
              "      <th>мягкая</th>\n",
              "      <th>твердая</th>\n",
              "    </tr>\n",
              "    <tr>\n",
              "      <th>author_name</th>\n",
              "      <th></th>\n",
              "      <th></th>\n",
              "    </tr>\n",
              "  </thead>\n",
              "  <tbody>\n",
              "    <tr>\n",
              "      <th>Островский</th>\n",
              "      <td>660</td>\n",
              "      <td>0</td>\n",
              "    </tr>\n",
              "    <tr>\n",
              "      <th>Тургенев</th>\n",
              "      <td>650</td>\n",
              "      <td>450</td>\n",
              "    </tr>\n",
              "    <tr>\n",
              "      <th>Чехов</th>\n",
              "      <td>0</td>\n",
              "      <td>950</td>\n",
              "    </tr>\n",
              "  </tbody>\n",
              "</table>\n",
              "</div>"
            ],
            "text/plain": [
              "cover        мягкая  твердая\n",
              "author_name                 \n",
              "Островский      660        0\n",
              "Тургенев        650      450\n",
              "Чехов             0      950"
            ]
          },
          "metadata": {},
          "execution_count": 137
        }
      ]
    },
    {
      "cell_type": "code",
      "metadata": {
        "id": "Qb8ewyzQWgh1"
      },
      "source": [
        "book_info.to_pickle('book_info.pkl')"
      ],
      "execution_count": 138,
      "outputs": []
    },
    {
      "cell_type": "code",
      "metadata": {
        "colab": {
          "base_uri": "https://localhost:8080/",
          "height": 173
        },
        "id": "bkZTsnIUWs3k",
        "outputId": "2858ff6e-2d1a-483c-b2ea-c1d064323fa9"
      },
      "source": [
        "book_info2 = pd.read_pickle('book_info.pkl')\n",
        "book_info2"
      ],
      "execution_count": 140,
      "outputs": [
        {
          "output_type": "execute_result",
          "data": {
            "text/html": [
              "<div>\n",
              "<style scoped>\n",
              "    .dataframe tbody tr th:only-of-type {\n",
              "        vertical-align: middle;\n",
              "    }\n",
              "\n",
              "    .dataframe tbody tr th {\n",
              "        vertical-align: top;\n",
              "    }\n",
              "\n",
              "    .dataframe thead th {\n",
              "        text-align: right;\n",
              "    }\n",
              "</style>\n",
              "<table border=\"1\" class=\"dataframe\">\n",
              "  <thead>\n",
              "    <tr style=\"text-align: right;\">\n",
              "      <th>cover</th>\n",
              "      <th>мягкая</th>\n",
              "      <th>твердая</th>\n",
              "    </tr>\n",
              "    <tr>\n",
              "      <th>author_name</th>\n",
              "      <th></th>\n",
              "      <th></th>\n",
              "    </tr>\n",
              "  </thead>\n",
              "  <tbody>\n",
              "    <tr>\n",
              "      <th>Островский</th>\n",
              "      <td>660</td>\n",
              "      <td>0</td>\n",
              "    </tr>\n",
              "    <tr>\n",
              "      <th>Тургенев</th>\n",
              "      <td>650</td>\n",
              "      <td>450</td>\n",
              "    </tr>\n",
              "    <tr>\n",
              "      <th>Чехов</th>\n",
              "      <td>0</td>\n",
              "      <td>950</td>\n",
              "    </tr>\n",
              "  </tbody>\n",
              "</table>\n",
              "</div>"
            ],
            "text/plain": [
              "cover        мягкая  твердая\n",
              "author_name                 \n",
              "Островский      660        0\n",
              "Тургенев        650      450\n",
              "Чехов             0      950"
            ]
          },
          "metadata": {},
          "execution_count": 140
        }
      ]
    }
  ]
}