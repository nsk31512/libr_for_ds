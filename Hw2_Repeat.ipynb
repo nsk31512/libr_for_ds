{
  "nbformat": 4,
  "nbformat_minor": 0,
  "metadata": {
    "colab": {
      "name": "Hw2 - Repeat",
      "provenance": [],
      "authorship_tag": "ABX9TyMEuRyyL7FDmUl3FP7b2CAL",
      "include_colab_link": true
    },
    "kernelspec": {
      "name": "python3",
      "display_name": "Python 3"
    },
    "language_info": {
      "name": "python"
    }
  },
  "cells": [
    {
      "cell_type": "markdown",
      "metadata": {
        "id": "view-in-github",
        "colab_type": "text"
      },
      "source": [
        "<a href=\"https://colab.research.google.com/github/nsk31512/libr_for_ds/blob/homework2/Hw2_Repeat.ipynb\" target=\"_parent\"><img src=\"https://colab.research.google.com/assets/colab-badge.svg\" alt=\"Open In Colab\"/></a>"
      ]
    },
    {
      "cell_type": "markdown",
      "metadata": {
        "id": "VU2iCev1z_ez"
      },
      "source": [
        "###Задания на повторение***"
      ]
    },
    {
      "cell_type": "code",
      "metadata": {
        "id": "M1eG5THgh1ii"
      },
      "source": [
        "import numpy as np\n",
        "import numpy.matlib"
      ],
      "execution_count": 98,
      "outputs": []
    },
    {
      "cell_type": "markdown",
      "metadata": {
        "id": "Kr3nkVVcm9U7"
      },
      "source": [
        "##1"
      ]
    },
    {
      "cell_type": "code",
      "metadata": {
        "colab": {
          "base_uri": "https://localhost:8080/"
        },
        "id": "vHg6pyP10DEs",
        "outputId": "4fca597b-cf69-44f7-83c2-dfe17f2bd1ec"
      },
      "source": [
        "a = np.arange(12, 24)\n",
        "a"
      ],
      "execution_count": 99,
      "outputs": [
        {
          "output_type": "execute_result",
          "data": {
            "text/plain": [
              "array([12, 13, 14, 15, 16, 17, 18, 19, 20, 21, 22, 23])"
            ]
          },
          "metadata": {},
          "execution_count": 99
        }
      ]
    },
    {
      "cell_type": "markdown",
      "metadata": {
        "id": "e-SDJN37nEaz"
      },
      "source": [
        "##2"
      ]
    },
    {
      "cell_type": "code",
      "metadata": {
        "colab": {
          "base_uri": "https://localhost:8080/"
        },
        "id": "UxdFhhV30VZO",
        "outputId": "0df4e36c-685e-43e0-b792-42bba3bf3047"
      },
      "source": [
        "a1 = a.reshape(6, 2)\n",
        "a1"
      ],
      "execution_count": 100,
      "outputs": [
        {
          "output_type": "execute_result",
          "data": {
            "text/plain": [
              "array([[12, 13],\n",
              "       [14, 15],\n",
              "       [16, 17],\n",
              "       [18, 19],\n",
              "       [20, 21],\n",
              "       [22, 23]])"
            ]
          },
          "metadata": {},
          "execution_count": 100
        }
      ]
    },
    {
      "cell_type": "code",
      "metadata": {
        "colab": {
          "base_uri": "https://localhost:8080/"
        },
        "id": "IxMkH_A00xmJ",
        "outputId": "cfd7b7f3-06cb-4f81-daa4-4a2b9c65b570"
      },
      "source": [
        "a2 = a.reshape(2, 6)\n",
        "a2"
      ],
      "execution_count": 101,
      "outputs": [
        {
          "output_type": "execute_result",
          "data": {
            "text/plain": [
              "array([[12, 13, 14, 15, 16, 17],\n",
              "       [18, 19, 20, 21, 22, 23]])"
            ]
          },
          "metadata": {},
          "execution_count": 101
        }
      ]
    },
    {
      "cell_type": "code",
      "metadata": {
        "colab": {
          "base_uri": "https://localhost:8080/"
        },
        "id": "XEcrA27Y02GT",
        "outputId": "e7fb83f3-df54-4f0e-d3a4-e7eb53c28ec7"
      },
      "source": [
        "a3 = a.reshape(3, 4)\n",
        "a3"
      ],
      "execution_count": 102,
      "outputs": [
        {
          "output_type": "execute_result",
          "data": {
            "text/plain": [
              "array([[12, 13, 14, 15],\n",
              "       [16, 17, 18, 19],\n",
              "       [20, 21, 22, 23]])"
            ]
          },
          "metadata": {},
          "execution_count": 102
        }
      ]
    },
    {
      "cell_type": "code",
      "metadata": {
        "colab": {
          "base_uri": "https://localhost:8080/"
        },
        "id": "sUX9rOW107VO",
        "outputId": "430c9632-dea1-4120-e32c-859f5224bb71"
      },
      "source": [
        "a4 = a.reshape(4, 3)\n",
        "a4"
      ],
      "execution_count": 103,
      "outputs": [
        {
          "output_type": "execute_result",
          "data": {
            "text/plain": [
              "array([[12, 13, 14],\n",
              "       [15, 16, 17],\n",
              "       [18, 19, 20],\n",
              "       [21, 22, 23]])"
            ]
          },
          "metadata": {},
          "execution_count": 103
        }
      ]
    },
    {
      "cell_type": "code",
      "metadata": {
        "colab": {
          "base_uri": "https://localhost:8080/"
        },
        "id": "CJj_qWEc1iHN",
        "outputId": "4dc42bf7-0c02-4a56-daf2-f1ba42362191"
      },
      "source": [
        "a5 = a.T\n",
        "a5"
      ],
      "execution_count": 104,
      "outputs": [
        {
          "output_type": "execute_result",
          "data": {
            "text/plain": [
              "array([12, 13, 14, 15, 16, 17, 18, 19, 20, 21, 22, 23])"
            ]
          },
          "metadata": {},
          "execution_count": 104
        }
      ]
    },
    {
      "cell_type": "markdown",
      "metadata": {
        "id": "yzt92pi2nH5r"
      },
      "source": [
        "##3"
      ]
    },
    {
      "cell_type": "code",
      "metadata": {
        "colab": {
          "base_uri": "https://localhost:8080/"
        },
        "id": "mI3ID6qNBZyQ",
        "outputId": "b6cfccf6-384e-43bb-d603-8d7f63c8c8d2"
      },
      "source": [
        "a1 = a.reshape(6, -1)\n",
        "a1"
      ],
      "execution_count": 105,
      "outputs": [
        {
          "output_type": "execute_result",
          "data": {
            "text/plain": [
              "array([[12, 13],\n",
              "       [14, 15],\n",
              "       [16, 17],\n",
              "       [18, 19],\n",
              "       [20, 21],\n",
              "       [22, 23]])"
            ]
          },
          "metadata": {},
          "execution_count": 105
        }
      ]
    },
    {
      "cell_type": "code",
      "metadata": {
        "colab": {
          "base_uri": "https://localhost:8080/"
        },
        "id": "DXr6TyKwBgJE",
        "outputId": "90d9731d-117d-4eff-ea9f-c18682f16416"
      },
      "source": [
        "a2 = a.reshape(3, -1)\n",
        "a2"
      ],
      "execution_count": 106,
      "outputs": [
        {
          "output_type": "execute_result",
          "data": {
            "text/plain": [
              "array([[12, 13, 14, 15],\n",
              "       [16, 17, 18, 19],\n",
              "       [20, 21, 22, 23]])"
            ]
          },
          "metadata": {},
          "execution_count": 106
        }
      ]
    },
    {
      "cell_type": "code",
      "metadata": {
        "colab": {
          "base_uri": "https://localhost:8080/"
        },
        "id": "xEOp8bMqCevX",
        "outputId": "5ce4cd40-8f3f-4a0f-a6a7-5be1c839345a"
      },
      "source": [
        "a3 = a.reshape(4, -1)\n",
        "a3"
      ],
      "execution_count": 107,
      "outputs": [
        {
          "output_type": "execute_result",
          "data": {
            "text/plain": [
              "array([[12, 13, 14],\n",
              "       [15, 16, 17],\n",
              "       [18, 19, 20],\n",
              "       [21, 22, 23]])"
            ]
          },
          "metadata": {},
          "execution_count": 107
        }
      ]
    },
    {
      "cell_type": "code",
      "metadata": {
        "colab": {
          "base_uri": "https://localhost:8080/"
        },
        "id": "ch0VxrbbClA3",
        "outputId": "fe5563ca-4650-42b6-f67f-1120a32f8a9d"
      },
      "source": [
        "a4 = a.reshape(-1, 2)\n",
        "a4"
      ],
      "execution_count": 108,
      "outputs": [
        {
          "output_type": "execute_result",
          "data": {
            "text/plain": [
              "array([[12, 13],\n",
              "       [14, 15],\n",
              "       [16, 17],\n",
              "       [18, 19],\n",
              "       [20, 21],\n",
              "       [22, 23]])"
            ]
          },
          "metadata": {},
          "execution_count": 108
        }
      ]
    },
    {
      "cell_type": "code",
      "metadata": {
        "colab": {
          "base_uri": "https://localhost:8080/"
        },
        "id": "e-gZWmHICper",
        "outputId": "9f2d4765-23d1-41d4-f4f2-895c26b9e5e5"
      },
      "source": [
        "a5 = a.reshape(-1, 6)\n",
        "a5"
      ],
      "execution_count": 109,
      "outputs": [
        {
          "output_type": "execute_result",
          "data": {
            "text/plain": [
              "array([[12, 13, 14, 15, 16, 17],\n",
              "       [18, 19, 20, 21, 22, 23]])"
            ]
          },
          "metadata": {},
          "execution_count": 109
        }
      ]
    },
    {
      "cell_type": "markdown",
      "metadata": {
        "id": "JLgS3CXCC3gI"
      },
      "source": [
        "##4\n",
        "Массив из одного столбца и 12 строк нельзя назвать одномерным\n",
        "\n"
      ]
    },
    {
      "cell_type": "markdown",
      "metadata": {
        "id": "OuESamZCnSTj"
      },
      "source": [
        "##5"
      ]
    },
    {
      "cell_type": "code",
      "metadata": {
        "colab": {
          "base_uri": "https://localhost:8080/"
        },
        "id": "O0ryKvrEDAPc",
        "outputId": "e6741e72-3550-45dd-d8b7-ca3b2b6ae11a"
      },
      "source": [
        "%%time\n",
        "a = np.zeros([3, 4])\n",
        "for i in range(len(a)):\n",
        "  for j in range (len(a[i])):\n",
        "    a[i][j] = np.random.randn()"
      ],
      "execution_count": 110,
      "outputs": [
        {
          "output_type": "stream",
          "name": "stdout",
          "text": [
            "CPU times: user 290 µs, sys: 0 ns, total: 290 µs\n",
            "Wall time: 5.44 ms\n"
          ]
        }
      ]
    },
    {
      "cell_type": "code",
      "metadata": {
        "colab": {
          "base_uri": "https://localhost:8080/"
        },
        "id": "ICnCa3q8vIak",
        "outputId": "eaa3f327-d16a-4e6c-8759-4cf6ce442e6a"
      },
      "source": [
        "%%time\n",
        "a = np.matlib.randn(3, 4)"
      ],
      "execution_count": 111,
      "outputs": [
        {
          "output_type": "stream",
          "name": "stdout",
          "text": [
            "CPU times: user 80 µs, sys: 0 ns, total: 80 µs\n",
            "Wall time: 86.1 µs\n"
          ]
        }
      ]
    },
    {
      "cell_type": "code",
      "metadata": {
        "colab": {
          "base_uri": "https://localhost:8080/"
        },
        "id": "lD7Hq7JpvJZB",
        "outputId": "2b24b448-b1e8-4b58-b40a-7d75740519a1"
      },
      "source": [
        "%%time\n",
        "a = np.random.randn(3, 4)"
      ],
      "execution_count": 112,
      "outputs": [
        {
          "output_type": "stream",
          "name": "stdout",
          "text": [
            "CPU times: user 36 µs, sys: 0 ns, total: 36 µs\n",
            "Wall time: 40.8 µs\n"
          ]
        }
      ]
    },
    {
      "cell_type": "markdown",
      "metadata": {
        "id": "HnHPTRUevWVd"
      },
      "source": [
        "Быстрее всего отработал метод random.randn"
      ]
    },
    {
      "cell_type": "code",
      "metadata": {
        "colab": {
          "base_uri": "https://localhost:8080/"
        },
        "id": "toujl9GIucIs",
        "outputId": "e96c3963-e9ba-49c9-cca3-178c65d4933a"
      },
      "source": [
        "a"
      ],
      "execution_count": 113,
      "outputs": [
        {
          "output_type": "execute_result",
          "data": {
            "text/plain": [
              "array([[-0.5336488 , -0.00552786, -0.22945045,  0.38934891],\n",
              "       [-1.26511911,  1.09199226,  2.77831304,  1.19363972],\n",
              "       [ 0.21863832,  0.88176104, -1.00908534, -1.58329421]])"
            ]
          },
          "metadata": {},
          "execution_count": 113
        }
      ]
    },
    {
      "cell_type": "code",
      "metadata": {
        "colab": {
          "base_uri": "https://localhost:8080/"
        },
        "id": "18V4xTT4EXrq",
        "outputId": "0112c83a-d0f6-49c3-b5d5-781b4e82adaf"
      },
      "source": [
        "b = a.flatten()\n",
        "b"
      ],
      "execution_count": 114,
      "outputs": [
        {
          "output_type": "execute_result",
          "data": {
            "text/plain": [
              "array([-0.5336488 , -0.00552786, -0.22945045,  0.38934891, -1.26511911,\n",
              "        1.09199226,  2.77831304,  1.19363972,  0.21863832,  0.88176104,\n",
              "       -1.00908534, -1.58329421])"
            ]
          },
          "metadata": {},
          "execution_count": 114
        }
      ]
    },
    {
      "cell_type": "markdown",
      "metadata": {
        "id": "8ejCMSCvnX_a"
      },
      "source": [
        "##6"
      ]
    },
    {
      "cell_type": "code",
      "metadata": {
        "colab": {
          "base_uri": "https://localhost:8080/"
        },
        "id": "Y6fLWi7REcG2",
        "outputId": "8136f868-d60c-495b-bf1a-282befe63d2a"
      },
      "source": [
        "a = np.arange(20, 0, -2)\n",
        "a"
      ],
      "execution_count": 115,
      "outputs": [
        {
          "output_type": "execute_result",
          "data": {
            "text/plain": [
              "array([20, 18, 16, 14, 12, 10,  8,  6,  4,  2])"
            ]
          },
          "metadata": {},
          "execution_count": 115
        }
      ]
    },
    {
      "cell_type": "markdown",
      "metadata": {
        "id": "MgpSMSIAnaEW"
      },
      "source": [
        "##7"
      ]
    },
    {
      "cell_type": "code",
      "metadata": {
        "colab": {
          "base_uri": "https://localhost:8080/"
        },
        "id": "zM9BEwFNEo4q",
        "outputId": "75a2bbea-c79b-4fb4-fd49-2f958f4f6ce1"
      },
      "source": [
        "b = np.arange(20, 1, -2)\n",
        "b\n",
        "#разницы между массивами a и b нет"
      ],
      "execution_count": 116,
      "outputs": [
        {
          "output_type": "execute_result",
          "data": {
            "text/plain": [
              "array([20, 18, 16, 14, 12, 10,  8,  6,  4,  2])"
            ]
          },
          "metadata": {},
          "execution_count": 116
        }
      ]
    },
    {
      "cell_type": "markdown",
      "metadata": {
        "id": "lnPmP7kVncLY"
      },
      "source": [
        "##9"
      ]
    },
    {
      "cell_type": "code",
      "metadata": {
        "colab": {
          "base_uri": "https://localhost:8080/"
        },
        "id": "hHiyCEJ9E94P",
        "outputId": "ed0580ea-52cd-4320-dc43-dc53356720bf"
      },
      "source": [
        "a = np.arange(0, 12)\n",
        "a"
      ],
      "execution_count": 117,
      "outputs": [
        {
          "output_type": "execute_result",
          "data": {
            "text/plain": [
              "array([ 0,  1,  2,  3,  4,  5,  6,  7,  8,  9, 10, 11])"
            ]
          },
          "metadata": {},
          "execution_count": 117
        }
      ]
    },
    {
      "cell_type": "code",
      "metadata": {
        "colab": {
          "base_uri": "https://localhost:8080/"
        },
        "id": "e8wVk2BfFwNz",
        "outputId": "8f0600db-0e67-4fef-8c58-27358cabb33b"
      },
      "source": [
        "A = a.reshape(4, 3)\n",
        "A"
      ],
      "execution_count": 118,
      "outputs": [
        {
          "output_type": "execute_result",
          "data": {
            "text/plain": [
              "array([[ 0,  1,  2],\n",
              "       [ 3,  4,  5],\n",
              "       [ 6,  7,  8],\n",
              "       [ 9, 10, 11]])"
            ]
          },
          "metadata": {},
          "execution_count": 118
        }
      ]
    },
    {
      "cell_type": "code",
      "metadata": {
        "colab": {
          "base_uri": "https://localhost:8080/"
        },
        "id": "jCvGd0kBF_gv",
        "outputId": "5bc3f88e-714d-4901-a1ba-2f9533bf94dd"
      },
      "source": [
        "At = A.T\n",
        "At"
      ],
      "execution_count": 119,
      "outputs": [
        {
          "output_type": "execute_result",
          "data": {
            "text/plain": [
              "array([[ 0,  3,  6,  9],\n",
              "       [ 1,  4,  7, 10],\n",
              "       [ 2,  5,  8, 11]])"
            ]
          },
          "metadata": {},
          "execution_count": 119
        }
      ]
    },
    {
      "cell_type": "code",
      "metadata": {
        "colab": {
          "base_uri": "https://localhost:8080/"
        },
        "id": "0SmjFp5oGFlG",
        "outputId": "ebd458fc-12ed-429c-c65b-913b80d1bea3"
      },
      "source": [
        "B = np.dot(A, At)\n",
        "B"
      ],
      "execution_count": 120,
      "outputs": [
        {
          "output_type": "execute_result",
          "data": {
            "text/plain": [
              "array([[  5,  14,  23,  32],\n",
              "       [ 14,  50,  86, 122],\n",
              "       [ 23,  86, 149, 212],\n",
              "       [ 32, 122, 212, 302]])"
            ]
          },
          "metadata": {},
          "execution_count": 120
        }
      ]
    },
    {
      "cell_type": "code",
      "metadata": {
        "id": "Um_ZbzdSGVwM"
      },
      "source": [
        "#Матрица B имеет размер 4х4. обратную матрицу вычислить не получится, т.к. матрица В вырожденная."
      ],
      "execution_count": 121,
      "outputs": []
    },
    {
      "cell_type": "markdown",
      "metadata": {
        "id": "bhMvU1bEnfO2"
      },
      "source": [
        "##10"
      ]
    },
    {
      "cell_type": "code",
      "metadata": {
        "id": "4b9sAIsmHXKN",
        "colab": {
          "base_uri": "https://localhost:8080/"
        },
        "outputId": "4612f6a2-e7f5-4045-e187-e7ca2d6d3328"
      },
      "source": [
        "np.random.seed(42)\n",
        "a = np.random.rand()\n",
        "a"
      ],
      "execution_count": 122,
      "outputs": [
        {
          "output_type": "execute_result",
          "data": {
            "text/plain": [
              "0.3745401188473625"
            ]
          },
          "metadata": {},
          "execution_count": 122
        }
      ]
    },
    {
      "cell_type": "markdown",
      "metadata": {
        "id": "xlcwtBE5nhdj"
      },
      "source": [
        "##11"
      ]
    },
    {
      "cell_type": "code",
      "metadata": {
        "colab": {
          "base_uri": "https://localhost:8080/"
        },
        "id": "NEmdlfoAjQCq",
        "outputId": "43210e65-1cd1-4acd-e2e5-8a8bdf54814c"
      },
      "source": [
        "c = np.random.randint(16, size=16)\n",
        "c"
      ],
      "execution_count": 123,
      "outputs": [
        {
          "output_type": "execute_result",
          "data": {
            "text/plain": [
              "array([12, 14, 10,  7, 12,  4,  6,  9,  2,  6, 10, 10,  7,  4,  3,  7])"
            ]
          },
          "metadata": {},
          "execution_count": 123
        }
      ]
    },
    {
      "cell_type": "markdown",
      "metadata": {
        "id": "H1g_DieZnjIH"
      },
      "source": [
        "##12"
      ]
    },
    {
      "cell_type": "code",
      "metadata": {
        "colab": {
          "base_uri": "https://localhost:8080/"
        },
        "id": "o8LqQB_omlyy",
        "outputId": "a92c28c6-0ef6-473f-c4ee-c119be0b498b"
      },
      "source": [
        "C = c.reshape(4, 4)\n",
        "C"
      ],
      "execution_count": 124,
      "outputs": [
        {
          "output_type": "execute_result",
          "data": {
            "text/plain": [
              "array([[12, 14, 10,  7],\n",
              "       [12,  4,  6,  9],\n",
              "       [ 2,  6, 10, 10],\n",
              "       [ 7,  4,  3,  7]])"
            ]
          },
          "metadata": {},
          "execution_count": 124
        }
      ]
    },
    {
      "cell_type": "code",
      "metadata": {
        "colab": {
          "base_uri": "https://localhost:8080/"
        },
        "id": "5wyXPHyJm6rt",
        "outputId": "3aaf2573-6283-467a-8367-4ac9e5e26dee"
      },
      "source": [
        "D = B + C*10\n",
        "D"
      ],
      "execution_count": 125,
      "outputs": [
        {
          "output_type": "execute_result",
          "data": {
            "text/plain": [
              "array([[125, 154, 123, 102],\n",
              "       [134,  90, 146, 212],\n",
              "       [ 43, 146, 249, 312],\n",
              "       [102, 162, 242, 372]])"
            ]
          },
          "metadata": {},
          "execution_count": 125
        }
      ]
    },
    {
      "cell_type": "code",
      "metadata": {
        "colab": {
          "base_uri": "https://localhost:8080/"
        },
        "id": "cxAEwZ3mnryQ",
        "outputId": "548d4683-9c1f-4c05-ab15-dac9d3da62dd"
      },
      "source": [
        "det_D = np.linalg.det(D)\n",
        "det_D"
      ],
      "execution_count": 126,
      "outputs": [
        {
          "output_type": "execute_result",
          "data": {
            "text/plain": [
              "-149097599.9999995"
            ]
          },
          "metadata": {},
          "execution_count": 126
        }
      ]
    },
    {
      "cell_type": "code",
      "metadata": {
        "colab": {
          "base_uri": "https://localhost:8080/"
        },
        "id": "md7hmopNn-hA",
        "outputId": "9ef1b12f-feb8-4885-a80e-39f73bdd92c0"
      },
      "source": [
        "rank_D = np.linalg.matrix_rank(D)\n",
        "rank_D"
      ],
      "execution_count": 127,
      "outputs": [
        {
          "output_type": "execute_result",
          "data": {
            "text/plain": [
              "4"
            ]
          },
          "metadata": {},
          "execution_count": 127
        }
      ]
    },
    {
      "cell_type": "code",
      "metadata": {
        "colab": {
          "base_uri": "https://localhost:8080/"
        },
        "id": "_kGnSrQqoH8r",
        "outputId": "c70bff77-c3b6-422f-bf66-288f5559d08e"
      },
      "source": [
        "D_inv = np.linalg.inv(D)\n",
        "D_inv"
      ],
      "execution_count": 128,
      "outputs": [
        {
          "output_type": "execute_result",
          "data": {
            "text/plain": [
              "array([[ 0.0004711 ,  0.0111539 , -0.00253901, -0.00435621],\n",
              "       [ 0.00957225, -0.01715762, -0.00876527,  0.01450486],\n",
              "       [-0.00167085,  0.01408514,  0.02130578, -0.02543824],\n",
              "       [-0.00321078, -0.00474937, -0.0093469 ,  0.01411451]])"
            ]
          },
          "metadata": {},
          "execution_count": 128
        }
      ]
    },
    {
      "cell_type": "markdown",
      "metadata": {
        "id": "zYVW-KAeoaHq"
      },
      "source": [
        "##13"
      ]
    },
    {
      "cell_type": "code",
      "metadata": {
        "id": "JdGlHYSvpCId",
        "colab": {
          "base_uri": "https://localhost:8080/"
        },
        "outputId": "8f3fddd7-8415-423b-8348-d28500326df1"
      },
      "source": [
        "D_inv = (D_inv <= 0).astype(int)\n",
        "D_inv"
      ],
      "execution_count": 129,
      "outputs": [
        {
          "output_type": "execute_result",
          "data": {
            "text/plain": [
              "array([[0, 0, 1, 1],\n",
              "       [0, 1, 1, 0],\n",
              "       [1, 0, 0, 1],\n",
              "       [1, 1, 1, 0]])"
            ]
          },
          "metadata": {},
          "execution_count": 129
        }
      ]
    },
    {
      "cell_type": "code",
      "metadata": {
        "colab": {
          "base_uri": "https://localhost:8080/"
        },
        "id": "WlBM_LGk4F7J",
        "outputId": "3bbbd560-fe84-47c1-e051-808737b59cc7"
      },
      "source": [
        "E = numpy.where(D_inv, B, C)\n",
        "E"
      ],
      "execution_count": 131,
      "outputs": [
        {
          "output_type": "execute_result",
          "data": {
            "text/plain": [
              "array([[ 12,  14,  23,  32],\n",
              "       [ 12,  50,  86,   9],\n",
              "       [ 23,   6,  10, 212],\n",
              "       [ 32, 122, 212,   7]])"
            ]
          },
          "metadata": {},
          "execution_count": 131
        }
      ]
    },
    {
      "cell_type": "code",
      "metadata": {
        "colab": {
          "base_uri": "https://localhost:8080/"
        },
        "id": "Ak2lDlCr4jCd",
        "outputId": "c858e16c-23af-46e7-a43c-22d74b2467fa"
      },
      "source": [
        "B"
      ],
      "execution_count": 132,
      "outputs": [
        {
          "output_type": "execute_result",
          "data": {
            "text/plain": [
              "array([[  5,  14,  23,  32],\n",
              "       [ 14,  50,  86, 122],\n",
              "       [ 23,  86, 149, 212],\n",
              "       [ 32, 122, 212, 302]])"
            ]
          },
          "metadata": {},
          "execution_count": 132
        }
      ]
    },
    {
      "cell_type": "code",
      "metadata": {
        "colab": {
          "base_uri": "https://localhost:8080/"
        },
        "id": "0cseVfXx4kyJ",
        "outputId": "f9a8f8de-ef9d-4e9c-d8a4-a904674d02e7"
      },
      "source": [
        "C"
      ],
      "execution_count": 133,
      "outputs": [
        {
          "output_type": "execute_result",
          "data": {
            "text/plain": [
              "array([[12, 14, 10,  7],\n",
              "       [12,  4,  6,  9],\n",
              "       [ 2,  6, 10, 10],\n",
              "       [ 7,  4,  3,  7]])"
            ]
          },
          "metadata": {},
          "execution_count": 133
        }
      ]
    }
  ]
}