{
  "nbformat": 4,
  "nbformat_minor": 0,
  "metadata": {
    "colab": {
      "name": "VAKuznetsov_solution.ipynb",
      "provenance": [],
      "collapsed_sections": [],
      "toc_visible": true,
      "mount_file_id": "1J6Hf0bYOkGi0wMSovxIasFsnjZCg5hFP",
      "authorship_tag": "ABX9TyPyzU/QRPeWrOgnOQ9+VCV1",
      "include_colab_link": true
    },
    "kernelspec": {
      "name": "python3",
      "display_name": "Python 3"
    },
    "language_info": {
      "name": "python"
    }
  },
  "cells": [
    {
      "cell_type": "markdown",
      "metadata": {
        "id": "view-in-github",
        "colab_type": "text"
      },
      "source": [
        "<a href=\"https://colab.research.google.com/github/nsk31512/libr_for_ds/blob/project/VAKuznetsov_solution.ipynb\" target=\"_parent\"><img src=\"https://colab.research.google.com/assets/colab-badge.svg\" alt=\"Open In Colab\"/></a>"
      ]
    },
    {
      "cell_type": "markdown",
      "metadata": {
        "id": "rJqOrt9Xif3a"
      },
      "source": [
        "###Требования:\n",
        "\n",
        "Оформить ноутбук с основными этапами:\n",
        "\n",
        "подготовка данных\n",
        "анализ\n",
        "визуализация\n",
        "обработка выбросов\n",
        "обработка пропусков\n",
        "генерация новых признаков\n",
        "обучение модели\n",
        "проверка качества модели\n",
        "Предсказать цены для квартир из test.csv и выслать файл на проверку.\n",
        "\n",
        "Что обязательно стоит попробовать:\n",
        "\n",
        "Тщательный анализ данных\n",
        "Поиск странных значений (ошибок, аномалий, выбросов)\n",
        "Предобработка данных, но без фанатизма!\n",
        "Проверка разных моделей\n",
        "Подбор гиперпараметров лучшей модели\n",
        "Отбор сильных признаков"
      ]
    },
    {
      "cell_type": "markdown",
      "metadata": {
        "id": "4k3vfNgL0MDu"
      },
      "source": [
        "#Введение"
      ]
    },
    {
      "cell_type": "code",
      "metadata": {
        "colab": {
          "base_uri": "https://localhost:8080/"
        },
        "id": "nlfbofi05bWT",
        "outputId": "027888cb-e1b8-4f81-a1f7-ada10f6496b9"
      },
      "source": [
        "from google.colab import drive\n",
        "drive.mount('/content/drive')"
      ],
      "execution_count": 122,
      "outputs": [
        {
          "output_type": "stream",
          "name": "stdout",
          "text": [
            "Drive already mounted at /content/drive; to attempt to forcibly remount, call drive.mount(\"/content/drive\", force_remount=True).\n"
          ]
        }
      ]
    },
    {
      "cell_type": "markdown",
      "metadata": {
        "id": "GcAf6FzF0RAy"
      },
      "source": [
        "В данном разделе представлены все импортируемые модули, использованные при работе."
      ]
    },
    {
      "cell_type": "code",
      "metadata": {
        "id": "p11yAEvlz5Kq"
      },
      "source": [
        "import numpy as np\n",
        "import pandas as pd\n",
        "from sklearn.linear_model import LinearRegression\n",
        "from sklearn.model_selection import train_test_split\n",
        "from sklearn.metrics import r2_score\n",
        "import seaborn as sns\n",
        "import matplotlib.pyplot as plt\n",
        "%matplotlib inline\n",
        "\n",
        "import warnings \n",
        "warnings.filterwarnings('ignore')"
      ],
      "execution_count": 123,
      "outputs": []
    },
    {
      "cell_type": "code",
      "metadata": {
        "id": "FqxbtXMcAN_L"
      },
      "source": [
        "plt.style.use('seaborn-ticks')\n",
        "plt.rcParams['figure.figsize'] = (6, 4)\n",
        "plt.rcParams.update({'font.size': 14})"
      ],
      "execution_count": 124,
      "outputs": []
    },
    {
      "cell_type": "code",
      "metadata": {
        "id": "5nSSrHK_1aP6"
      },
      "source": [
        "df_train = pd.read_csv('/content/drive/MyDrive/Colab Notebooks/project/train.csv', index_col='Id')"
      ],
      "execution_count": 125,
      "outputs": []
    },
    {
      "cell_type": "code",
      "metadata": {
        "id": "oomc_oeLyX7v"
      },
      "source": [
        "#df_test = pd.read_csv('/content/drive/MyDrive/Colab Notebooks/project/test.csv', index_col='Id')"
      ],
      "execution_count": 126,
      "outputs": []
    },
    {
      "cell_type": "markdown",
      "metadata": {
        "id": "nc0nLKFA2nlE"
      },
      "source": [
        "#Обработка тренировочного датасета"
      ]
    },
    {
      "cell_type": "code",
      "metadata": {
        "colab": {
          "base_uri": "https://localhost:8080/",
          "height": 252
        },
        "id": "wj2vpUnL2X3t",
        "outputId": "af5b3a7a-b185-41fa-e1e0-ef3c586a35e0"
      },
      "source": [
        "df_train.head()"
      ],
      "execution_count": 127,
      "outputs": [
        {
          "output_type": "execute_result",
          "data": {
            "text/html": [
              "<div>\n",
              "<style scoped>\n",
              "    .dataframe tbody tr th:only-of-type {\n",
              "        vertical-align: middle;\n",
              "    }\n",
              "\n",
              "    .dataframe tbody tr th {\n",
              "        vertical-align: top;\n",
              "    }\n",
              "\n",
              "    .dataframe thead th {\n",
              "        text-align: right;\n",
              "    }\n",
              "</style>\n",
              "<table border=\"1\" class=\"dataframe\">\n",
              "  <thead>\n",
              "    <tr style=\"text-align: right;\">\n",
              "      <th></th>\n",
              "      <th>DistrictId</th>\n",
              "      <th>Rooms</th>\n",
              "      <th>Square</th>\n",
              "      <th>LifeSquare</th>\n",
              "      <th>KitchenSquare</th>\n",
              "      <th>Floor</th>\n",
              "      <th>HouseFloor</th>\n",
              "      <th>HouseYear</th>\n",
              "      <th>Ecology_1</th>\n",
              "      <th>Ecology_2</th>\n",
              "      <th>Ecology_3</th>\n",
              "      <th>Social_1</th>\n",
              "      <th>Social_2</th>\n",
              "      <th>Social_3</th>\n",
              "      <th>Healthcare_1</th>\n",
              "      <th>Helthcare_2</th>\n",
              "      <th>Shops_1</th>\n",
              "      <th>Shops_2</th>\n",
              "      <th>Price</th>\n",
              "    </tr>\n",
              "    <tr>\n",
              "      <th>Id</th>\n",
              "      <th></th>\n",
              "      <th></th>\n",
              "      <th></th>\n",
              "      <th></th>\n",
              "      <th></th>\n",
              "      <th></th>\n",
              "      <th></th>\n",
              "      <th></th>\n",
              "      <th></th>\n",
              "      <th></th>\n",
              "      <th></th>\n",
              "      <th></th>\n",
              "      <th></th>\n",
              "      <th></th>\n",
              "      <th></th>\n",
              "      <th></th>\n",
              "      <th></th>\n",
              "      <th></th>\n",
              "      <th></th>\n",
              "    </tr>\n",
              "  </thead>\n",
              "  <tbody>\n",
              "    <tr>\n",
              "      <th>14038</th>\n",
              "      <td>35</td>\n",
              "      <td>2.0</td>\n",
              "      <td>47.981561</td>\n",
              "      <td>29.442751</td>\n",
              "      <td>6.0</td>\n",
              "      <td>7</td>\n",
              "      <td>9.0</td>\n",
              "      <td>1969</td>\n",
              "      <td>0.089040</td>\n",
              "      <td>B</td>\n",
              "      <td>B</td>\n",
              "      <td>33</td>\n",
              "      <td>7976</td>\n",
              "      <td>5</td>\n",
              "      <td>NaN</td>\n",
              "      <td>0</td>\n",
              "      <td>11</td>\n",
              "      <td>B</td>\n",
              "      <td>184966.930730</td>\n",
              "    </tr>\n",
              "    <tr>\n",
              "      <th>15053</th>\n",
              "      <td>41</td>\n",
              "      <td>3.0</td>\n",
              "      <td>65.683640</td>\n",
              "      <td>40.049543</td>\n",
              "      <td>8.0</td>\n",
              "      <td>7</td>\n",
              "      <td>9.0</td>\n",
              "      <td>1978</td>\n",
              "      <td>0.000070</td>\n",
              "      <td>B</td>\n",
              "      <td>B</td>\n",
              "      <td>46</td>\n",
              "      <td>10309</td>\n",
              "      <td>1</td>\n",
              "      <td>240.0</td>\n",
              "      <td>1</td>\n",
              "      <td>16</td>\n",
              "      <td>B</td>\n",
              "      <td>300009.450063</td>\n",
              "    </tr>\n",
              "    <tr>\n",
              "      <th>4765</th>\n",
              "      <td>53</td>\n",
              "      <td>2.0</td>\n",
              "      <td>44.947953</td>\n",
              "      <td>29.197612</td>\n",
              "      <td>0.0</td>\n",
              "      <td>8</td>\n",
              "      <td>12.0</td>\n",
              "      <td>1968</td>\n",
              "      <td>0.049637</td>\n",
              "      <td>B</td>\n",
              "      <td>B</td>\n",
              "      <td>34</td>\n",
              "      <td>7759</td>\n",
              "      <td>0</td>\n",
              "      <td>229.0</td>\n",
              "      <td>1</td>\n",
              "      <td>3</td>\n",
              "      <td>B</td>\n",
              "      <td>220925.908524</td>\n",
              "    </tr>\n",
              "    <tr>\n",
              "      <th>5809</th>\n",
              "      <td>58</td>\n",
              "      <td>2.0</td>\n",
              "      <td>53.352981</td>\n",
              "      <td>52.731512</td>\n",
              "      <td>9.0</td>\n",
              "      <td>8</td>\n",
              "      <td>17.0</td>\n",
              "      <td>1977</td>\n",
              "      <td>0.437885</td>\n",
              "      <td>B</td>\n",
              "      <td>B</td>\n",
              "      <td>23</td>\n",
              "      <td>5735</td>\n",
              "      <td>3</td>\n",
              "      <td>1084.0</td>\n",
              "      <td>0</td>\n",
              "      <td>5</td>\n",
              "      <td>B</td>\n",
              "      <td>175616.227217</td>\n",
              "    </tr>\n",
              "    <tr>\n",
              "      <th>10783</th>\n",
              "      <td>99</td>\n",
              "      <td>1.0</td>\n",
              "      <td>39.649192</td>\n",
              "      <td>23.776169</td>\n",
              "      <td>7.0</td>\n",
              "      <td>11</td>\n",
              "      <td>12.0</td>\n",
              "      <td>1976</td>\n",
              "      <td>0.012339</td>\n",
              "      <td>B</td>\n",
              "      <td>B</td>\n",
              "      <td>35</td>\n",
              "      <td>5776</td>\n",
              "      <td>1</td>\n",
              "      <td>2078.0</td>\n",
              "      <td>2</td>\n",
              "      <td>4</td>\n",
              "      <td>B</td>\n",
              "      <td>150226.531644</td>\n",
              "    </tr>\n",
              "  </tbody>\n",
              "</table>\n",
              "</div>"
            ],
            "text/plain": [
              "       DistrictId  Rooms     Square  ...  Shops_1  Shops_2          Price\n",
              "Id                                   ...                                 \n",
              "14038          35    2.0  47.981561  ...       11        B  184966.930730\n",
              "15053          41    3.0  65.683640  ...       16        B  300009.450063\n",
              "4765           53    2.0  44.947953  ...        3        B  220925.908524\n",
              "5809           58    2.0  53.352981  ...        5        B  175616.227217\n",
              "10783          99    1.0  39.649192  ...        4        B  150226.531644\n",
              "\n",
              "[5 rows x 19 columns]"
            ]
          },
          "metadata": {},
          "execution_count": 127
        }
      ]
    },
    {
      "cell_type": "code",
      "metadata": {
        "colab": {
          "base_uri": "https://localhost:8080/"
        },
        "id": "GB_eCCcN2eaf",
        "outputId": "4ca73381-b164-4acd-bb92-8ff77e267d44"
      },
      "source": [
        "df_train.info()"
      ],
      "execution_count": 128,
      "outputs": [
        {
          "output_type": "stream",
          "name": "stdout",
          "text": [
            "<class 'pandas.core.frame.DataFrame'>\n",
            "Int64Index: 10000 entries, 14038 to 6306\n",
            "Data columns (total 19 columns):\n",
            " #   Column         Non-Null Count  Dtype  \n",
            "---  ------         --------------  -----  \n",
            " 0   DistrictId     10000 non-null  int64  \n",
            " 1   Rooms          10000 non-null  float64\n",
            " 2   Square         10000 non-null  float64\n",
            " 3   LifeSquare     7887 non-null   float64\n",
            " 4   KitchenSquare  10000 non-null  float64\n",
            " 5   Floor          10000 non-null  int64  \n",
            " 6   HouseFloor     10000 non-null  float64\n",
            " 7   HouseYear      10000 non-null  int64  \n",
            " 8   Ecology_1      10000 non-null  float64\n",
            " 9   Ecology_2      10000 non-null  object \n",
            " 10  Ecology_3      10000 non-null  object \n",
            " 11  Social_1       10000 non-null  int64  \n",
            " 12  Social_2       10000 non-null  int64  \n",
            " 13  Social_3       10000 non-null  int64  \n",
            " 14  Healthcare_1   5202 non-null   float64\n",
            " 15  Helthcare_2    10000 non-null  int64  \n",
            " 16  Shops_1        10000 non-null  int64  \n",
            " 17  Shops_2        10000 non-null  object \n",
            " 18  Price          10000 non-null  float64\n",
            "dtypes: float64(8), int64(8), object(3)\n",
            "memory usage: 1.5+ MB\n"
          ]
        }
      ]
    },
    {
      "cell_type": "markdown",
      "metadata": {
        "id": "q9B2ZN7D3cqk"
      },
      "source": [
        "В датасете присутсвуют пропуски в столбцах \"LifeSquare\" и \"Healthcare_1\", при этом количество пропущенных значений составляет более 20%, а значит просто удалить данные строки нельзя и требуется их обработать"
      ]
    },
    {
      "cell_type": "code",
      "metadata": {
        "colab": {
          "base_uri": "https://localhost:8080/"
        },
        "id": "JEeFKtpr2vq-",
        "outputId": "48443956-d0c4-4ca3-e1c1-25fad40c2f74"
      },
      "source": [
        "df_train.isnull().sum()"
      ],
      "execution_count": 129,
      "outputs": [
        {
          "output_type": "execute_result",
          "data": {
            "text/plain": [
              "DistrictId          0\n",
              "Rooms               0\n",
              "Square              0\n",
              "LifeSquare       2113\n",
              "KitchenSquare       0\n",
              "Floor               0\n",
              "HouseFloor          0\n",
              "HouseYear           0\n",
              "Ecology_1           0\n",
              "Ecology_2           0\n",
              "Ecology_3           0\n",
              "Social_1            0\n",
              "Social_2            0\n",
              "Social_3            0\n",
              "Healthcare_1     4798\n",
              "Helthcare_2         0\n",
              "Shops_1             0\n",
              "Shops_2             0\n",
              "Price               0\n",
              "dtype: int64"
            ]
          },
          "metadata": {},
          "execution_count": 129
        }
      ]
    },
    {
      "cell_type": "code",
      "metadata": {
        "colab": {
          "base_uri": "https://localhost:8080/"
        },
        "id": "c0v5yLt437av",
        "outputId": "107208cb-e56f-4dcf-aeec-78c6b3fd737c"
      },
      "source": [
        "10000-2113, 10000-5202"
      ],
      "execution_count": 130,
      "outputs": [
        {
          "output_type": "execute_result",
          "data": {
            "text/plain": [
              "(7887, 4798)"
            ]
          },
          "metadata": {},
          "execution_count": 130
        }
      ]
    },
    {
      "cell_type": "markdown",
      "metadata": {
        "id": "Zzv85Yj44E59"
      },
      "source": [
        "Из двух вышеобозначенных строк кода можно сделать вывод, что пропущенные строки заполненны Null, а не каким-то объектом."
      ]
    },
    {
      "cell_type": "code",
      "metadata": {
        "id": "bANO9kPT6z7B"
      },
      "source": [
        "#Выделение из основного датасета таблцы с Null для столбца LifeSquare\n",
        "df_LSq_null = df_train[df_train['LifeSquare'].isnull()]"
      ],
      "execution_count": 131,
      "outputs": []
    },
    {
      "cell_type": "markdown",
      "metadata": {
        "id": "8gFxDDL974uS"
      },
      "source": [
        "Для нахождения зависимостей в следующх двух строках запрашиваем статистические показатели общей таблицы и таблицы с пропусками LifeSquare"
      ]
    },
    {
      "cell_type": "code",
      "metadata": {
        "colab": {
          "base_uri": "https://localhost:8080/",
          "height": 314
        },
        "id": "p-ZVc4Ez39IE",
        "outputId": "f25342cd-9233-43e1-f310-8e373ff85783"
      },
      "source": [
        "df_train.describe()"
      ],
      "execution_count": 132,
      "outputs": [
        {
          "output_type": "execute_result",
          "data": {
            "text/html": [
              "<div>\n",
              "<style scoped>\n",
              "    .dataframe tbody tr th:only-of-type {\n",
              "        vertical-align: middle;\n",
              "    }\n",
              "\n",
              "    .dataframe tbody tr th {\n",
              "        vertical-align: top;\n",
              "    }\n",
              "\n",
              "    .dataframe thead th {\n",
              "        text-align: right;\n",
              "    }\n",
              "</style>\n",
              "<table border=\"1\" class=\"dataframe\">\n",
              "  <thead>\n",
              "    <tr style=\"text-align: right;\">\n",
              "      <th></th>\n",
              "      <th>DistrictId</th>\n",
              "      <th>Rooms</th>\n",
              "      <th>Square</th>\n",
              "      <th>LifeSquare</th>\n",
              "      <th>KitchenSquare</th>\n",
              "      <th>Floor</th>\n",
              "      <th>HouseFloor</th>\n",
              "      <th>HouseYear</th>\n",
              "      <th>Ecology_1</th>\n",
              "      <th>Social_1</th>\n",
              "      <th>Social_2</th>\n",
              "      <th>Social_3</th>\n",
              "      <th>Healthcare_1</th>\n",
              "      <th>Helthcare_2</th>\n",
              "      <th>Shops_1</th>\n",
              "      <th>Price</th>\n",
              "    </tr>\n",
              "  </thead>\n",
              "  <tbody>\n",
              "    <tr>\n",
              "      <th>count</th>\n",
              "      <td>10000.000000</td>\n",
              "      <td>10000.000000</td>\n",
              "      <td>10000.000000</td>\n",
              "      <td>7887.000000</td>\n",
              "      <td>10000.000000</td>\n",
              "      <td>10000.000000</td>\n",
              "      <td>10000.000000</td>\n",
              "      <td>1.000000e+04</td>\n",
              "      <td>10000.000000</td>\n",
              "      <td>10000.000000</td>\n",
              "      <td>10000.000000</td>\n",
              "      <td>10000.000000</td>\n",
              "      <td>5202.000000</td>\n",
              "      <td>10000.000000</td>\n",
              "      <td>10000.000000</td>\n",
              "      <td>10000.000000</td>\n",
              "    </tr>\n",
              "    <tr>\n",
              "      <th>mean</th>\n",
              "      <td>50.400800</td>\n",
              "      <td>1.890500</td>\n",
              "      <td>56.315775</td>\n",
              "      <td>37.199645</td>\n",
              "      <td>6.273300</td>\n",
              "      <td>8.526700</td>\n",
              "      <td>12.609400</td>\n",
              "      <td>3.990166e+03</td>\n",
              "      <td>0.118858</td>\n",
              "      <td>24.687000</td>\n",
              "      <td>5352.157400</td>\n",
              "      <td>8.039200</td>\n",
              "      <td>1142.904460</td>\n",
              "      <td>1.319500</td>\n",
              "      <td>4.231300</td>\n",
              "      <td>214138.857399</td>\n",
              "    </tr>\n",
              "    <tr>\n",
              "      <th>std</th>\n",
              "      <td>43.587592</td>\n",
              "      <td>0.839512</td>\n",
              "      <td>21.058732</td>\n",
              "      <td>86.241209</td>\n",
              "      <td>28.560917</td>\n",
              "      <td>5.241148</td>\n",
              "      <td>6.775974</td>\n",
              "      <td>2.005003e+05</td>\n",
              "      <td>0.119025</td>\n",
              "      <td>17.532614</td>\n",
              "      <td>4006.799803</td>\n",
              "      <td>23.831875</td>\n",
              "      <td>1021.517264</td>\n",
              "      <td>1.493601</td>\n",
              "      <td>4.806341</td>\n",
              "      <td>92872.293865</td>\n",
              "    </tr>\n",
              "    <tr>\n",
              "      <th>min</th>\n",
              "      <td>0.000000</td>\n",
              "      <td>0.000000</td>\n",
              "      <td>1.136859</td>\n",
              "      <td>0.370619</td>\n",
              "      <td>0.000000</td>\n",
              "      <td>1.000000</td>\n",
              "      <td>0.000000</td>\n",
              "      <td>1.910000e+03</td>\n",
              "      <td>0.000000</td>\n",
              "      <td>0.000000</td>\n",
              "      <td>168.000000</td>\n",
              "      <td>0.000000</td>\n",
              "      <td>0.000000</td>\n",
              "      <td>0.000000</td>\n",
              "      <td>0.000000</td>\n",
              "      <td>59174.778028</td>\n",
              "    </tr>\n",
              "    <tr>\n",
              "      <th>25%</th>\n",
              "      <td>20.000000</td>\n",
              "      <td>1.000000</td>\n",
              "      <td>41.774881</td>\n",
              "      <td>22.769832</td>\n",
              "      <td>1.000000</td>\n",
              "      <td>4.000000</td>\n",
              "      <td>9.000000</td>\n",
              "      <td>1.974000e+03</td>\n",
              "      <td>0.017647</td>\n",
              "      <td>6.000000</td>\n",
              "      <td>1564.000000</td>\n",
              "      <td>0.000000</td>\n",
              "      <td>350.000000</td>\n",
              "      <td>0.000000</td>\n",
              "      <td>1.000000</td>\n",
              "      <td>153872.633942</td>\n",
              "    </tr>\n",
              "    <tr>\n",
              "      <th>50%</th>\n",
              "      <td>36.000000</td>\n",
              "      <td>2.000000</td>\n",
              "      <td>52.513310</td>\n",
              "      <td>32.781260</td>\n",
              "      <td>6.000000</td>\n",
              "      <td>7.000000</td>\n",
              "      <td>13.000000</td>\n",
              "      <td>1.977000e+03</td>\n",
              "      <td>0.075424</td>\n",
              "      <td>25.000000</td>\n",
              "      <td>5285.000000</td>\n",
              "      <td>2.000000</td>\n",
              "      <td>900.000000</td>\n",
              "      <td>1.000000</td>\n",
              "      <td>3.000000</td>\n",
              "      <td>192269.644879</td>\n",
              "    </tr>\n",
              "    <tr>\n",
              "      <th>75%</th>\n",
              "      <td>75.000000</td>\n",
              "      <td>2.000000</td>\n",
              "      <td>65.900625</td>\n",
              "      <td>45.128803</td>\n",
              "      <td>9.000000</td>\n",
              "      <td>12.000000</td>\n",
              "      <td>17.000000</td>\n",
              "      <td>2.001000e+03</td>\n",
              "      <td>0.195781</td>\n",
              "      <td>36.000000</td>\n",
              "      <td>7227.000000</td>\n",
              "      <td>5.000000</td>\n",
              "      <td>1548.000000</td>\n",
              "      <td>2.000000</td>\n",
              "      <td>6.000000</td>\n",
              "      <td>249135.462171</td>\n",
              "    </tr>\n",
              "    <tr>\n",
              "      <th>max</th>\n",
              "      <td>209.000000</td>\n",
              "      <td>19.000000</td>\n",
              "      <td>641.065193</td>\n",
              "      <td>7480.592129</td>\n",
              "      <td>2014.000000</td>\n",
              "      <td>42.000000</td>\n",
              "      <td>117.000000</td>\n",
              "      <td>2.005201e+07</td>\n",
              "      <td>0.521867</td>\n",
              "      <td>74.000000</td>\n",
              "      <td>19083.000000</td>\n",
              "      <td>141.000000</td>\n",
              "      <td>4849.000000</td>\n",
              "      <td>6.000000</td>\n",
              "      <td>23.000000</td>\n",
              "      <td>633233.466570</td>\n",
              "    </tr>\n",
              "  </tbody>\n",
              "</table>\n",
              "</div>"
            ],
            "text/plain": [
              "         DistrictId         Rooms  ...       Shops_1          Price\n",
              "count  10000.000000  10000.000000  ...  10000.000000   10000.000000\n",
              "mean      50.400800      1.890500  ...      4.231300  214138.857399\n",
              "std       43.587592      0.839512  ...      4.806341   92872.293865\n",
              "min        0.000000      0.000000  ...      0.000000   59174.778028\n",
              "25%       20.000000      1.000000  ...      1.000000  153872.633942\n",
              "50%       36.000000      2.000000  ...      3.000000  192269.644879\n",
              "75%       75.000000      2.000000  ...      6.000000  249135.462171\n",
              "max      209.000000     19.000000  ...     23.000000  633233.466570\n",
              "\n",
              "[8 rows x 16 columns]"
            ]
          },
          "metadata": {},
          "execution_count": 132
        }
      ]
    },
    {
      "cell_type": "code",
      "metadata": {
        "colab": {
          "base_uri": "https://localhost:8080/",
          "height": 314
        },
        "id": "0Wu_s-gr5xs7",
        "outputId": "a11ed75e-8e57-47a6-a1b5-aab6a274a891"
      },
      "source": [
        "df_LSq_null.describe()"
      ],
      "execution_count": 133,
      "outputs": [
        {
          "output_type": "execute_result",
          "data": {
            "text/html": [
              "<div>\n",
              "<style scoped>\n",
              "    .dataframe tbody tr th:only-of-type {\n",
              "        vertical-align: middle;\n",
              "    }\n",
              "\n",
              "    .dataframe tbody tr th {\n",
              "        vertical-align: top;\n",
              "    }\n",
              "\n",
              "    .dataframe thead th {\n",
              "        text-align: right;\n",
              "    }\n",
              "</style>\n",
              "<table border=\"1\" class=\"dataframe\">\n",
              "  <thead>\n",
              "    <tr style=\"text-align: right;\">\n",
              "      <th></th>\n",
              "      <th>DistrictId</th>\n",
              "      <th>Rooms</th>\n",
              "      <th>Square</th>\n",
              "      <th>LifeSquare</th>\n",
              "      <th>KitchenSquare</th>\n",
              "      <th>Floor</th>\n",
              "      <th>HouseFloor</th>\n",
              "      <th>HouseYear</th>\n",
              "      <th>Ecology_1</th>\n",
              "      <th>Social_1</th>\n",
              "      <th>Social_2</th>\n",
              "      <th>Social_3</th>\n",
              "      <th>Healthcare_1</th>\n",
              "      <th>Helthcare_2</th>\n",
              "      <th>Shops_1</th>\n",
              "      <th>Price</th>\n",
              "    </tr>\n",
              "  </thead>\n",
              "  <tbody>\n",
              "    <tr>\n",
              "      <th>count</th>\n",
              "      <td>2113.000000</td>\n",
              "      <td>2113.000000</td>\n",
              "      <td>2113.000000</td>\n",
              "      <td>0.0</td>\n",
              "      <td>2113.000000</td>\n",
              "      <td>2113.000000</td>\n",
              "      <td>2113.000000</td>\n",
              "      <td>2113.000000</td>\n",
              "      <td>2113.000000</td>\n",
              "      <td>2113.000000</td>\n",
              "      <td>2113.000000</td>\n",
              "      <td>2113.000000</td>\n",
              "      <td>745.000000</td>\n",
              "      <td>2113.000000</td>\n",
              "      <td>2113.000000</td>\n",
              "      <td>2113.000000</td>\n",
              "    </tr>\n",
              "    <tr>\n",
              "      <th>mean</th>\n",
              "      <td>26.999527</td>\n",
              "      <td>1.778987</td>\n",
              "      <td>60.352646</td>\n",
              "      <td>NaN</td>\n",
              "      <td>1.383814</td>\n",
              "      <td>9.913393</td>\n",
              "      <td>13.248935</td>\n",
              "      <td>1981.707525</td>\n",
              "      <td>0.105183</td>\n",
              "      <td>10.528159</td>\n",
              "      <td>2569.010885</td>\n",
              "      <td>10.899195</td>\n",
              "      <td>733.229530</td>\n",
              "      <td>0.565547</td>\n",
              "      <td>3.111690</td>\n",
              "      <td>179534.185327</td>\n",
              "    </tr>\n",
              "    <tr>\n",
              "      <th>std</th>\n",
              "      <td>24.928012</td>\n",
              "      <td>0.764316</td>\n",
              "      <td>22.846588</td>\n",
              "      <td>NaN</td>\n",
              "      <td>2.725244</td>\n",
              "      <td>5.563304</td>\n",
              "      <td>8.091366</td>\n",
              "      <td>12.690541</td>\n",
              "      <td>0.113981</td>\n",
              "      <td>12.871756</td>\n",
              "      <td>3021.569733</td>\n",
              "      <td>35.099679</td>\n",
              "      <td>513.620168</td>\n",
              "      <td>1.117011</td>\n",
              "      <td>5.872527</td>\n",
              "      <td>75178.459104</td>\n",
              "    </tr>\n",
              "    <tr>\n",
              "      <th>min</th>\n",
              "      <td>0.000000</td>\n",
              "      <td>0.000000</td>\n",
              "      <td>17.414181</td>\n",
              "      <td>NaN</td>\n",
              "      <td>0.000000</td>\n",
              "      <td>1.000000</td>\n",
              "      <td>0.000000</td>\n",
              "      <td>1977.000000</td>\n",
              "      <td>0.000000</td>\n",
              "      <td>0.000000</td>\n",
              "      <td>168.000000</td>\n",
              "      <td>0.000000</td>\n",
              "      <td>0.000000</td>\n",
              "      <td>0.000000</td>\n",
              "      <td>0.000000</td>\n",
              "      <td>60502.583500</td>\n",
              "    </tr>\n",
              "    <tr>\n",
              "      <th>25%</th>\n",
              "      <td>6.000000</td>\n",
              "      <td>1.000000</td>\n",
              "      <td>43.624731</td>\n",
              "      <td>NaN</td>\n",
              "      <td>1.000000</td>\n",
              "      <td>5.000000</td>\n",
              "      <td>4.000000</td>\n",
              "      <td>1977.000000</td>\n",
              "      <td>0.007122</td>\n",
              "      <td>2.000000</td>\n",
              "      <td>469.000000</td>\n",
              "      <td>0.000000</td>\n",
              "      <td>540.000000</td>\n",
              "      <td>0.000000</td>\n",
              "      <td>0.000000</td>\n",
              "      <td>130409.470602</td>\n",
              "    </tr>\n",
              "    <tr>\n",
              "      <th>50%</th>\n",
              "      <td>23.000000</td>\n",
              "      <td>2.000000</td>\n",
              "      <td>58.634866</td>\n",
              "      <td>NaN</td>\n",
              "      <td>1.000000</td>\n",
              "      <td>9.000000</td>\n",
              "      <td>17.000000</td>\n",
              "      <td>1977.000000</td>\n",
              "      <td>0.072158</td>\n",
              "      <td>5.000000</td>\n",
              "      <td>1437.000000</td>\n",
              "      <td>0.000000</td>\n",
              "      <td>540.000000</td>\n",
              "      <td>0.000000</td>\n",
              "      <td>1.000000</td>\n",
              "      <td>167088.412963</td>\n",
              "    </tr>\n",
              "    <tr>\n",
              "      <th>75%</th>\n",
              "      <td>33.000000</td>\n",
              "      <td>2.000000</td>\n",
              "      <td>68.843287</td>\n",
              "      <td>NaN</td>\n",
              "      <td>1.000000</td>\n",
              "      <td>14.000000</td>\n",
              "      <td>17.000000</td>\n",
              "      <td>1977.000000</td>\n",
              "      <td>0.197368</td>\n",
              "      <td>22.000000</td>\n",
              "      <td>5212.000000</td>\n",
              "      <td>3.000000</td>\n",
              "      <td>1046.000000</td>\n",
              "      <td>0.000000</td>\n",
              "      <td>2.000000</td>\n",
              "      <td>205482.588565</td>\n",
              "    </tr>\n",
              "    <tr>\n",
              "      <th>max</th>\n",
              "      <td>190.000000</td>\n",
              "      <td>5.000000</td>\n",
              "      <td>604.705972</td>\n",
              "      <td>NaN</td>\n",
              "      <td>62.000000</td>\n",
              "      <td>27.000000</td>\n",
              "      <td>30.000000</td>\n",
              "      <td>2019.000000</td>\n",
              "      <td>0.437885</td>\n",
              "      <td>53.000000</td>\n",
              "      <td>14892.000000</td>\n",
              "      <td>141.000000</td>\n",
              "      <td>4702.000000</td>\n",
              "      <td>6.000000</td>\n",
              "      <td>23.000000</td>\n",
              "      <td>633233.466570</td>\n",
              "    </tr>\n",
              "  </tbody>\n",
              "</table>\n",
              "</div>"
            ],
            "text/plain": [
              "        DistrictId        Rooms  ...      Shops_1          Price\n",
              "count  2113.000000  2113.000000  ...  2113.000000    2113.000000\n",
              "mean     26.999527     1.778987  ...     3.111690  179534.185327\n",
              "std      24.928012     0.764316  ...     5.872527   75178.459104\n",
              "min       0.000000     0.000000  ...     0.000000   60502.583500\n",
              "25%       6.000000     1.000000  ...     0.000000  130409.470602\n",
              "50%      23.000000     2.000000  ...     1.000000  167088.412963\n",
              "75%      33.000000     2.000000  ...     2.000000  205482.588565\n",
              "max     190.000000     5.000000  ...    23.000000  633233.466570\n",
              "\n",
              "[8 rows x 16 columns]"
            ]
          },
          "metadata": {},
          "execution_count": 133
        }
      ]
    },
    {
      "cell_type": "markdown",
      "metadata": {
        "id": "mCzIi5Lg6lq0"
      },
      "source": [
        "Из двух таблиц выше видно, что максимальные значения в столбцах комнат и общей площади значительно больше 3 квартиля. Более того, существует квартира, в которой жилая площадь больше общей площади. Перед обработкой пропусков следует обработать данные значения."
      ]
    },
    {
      "cell_type": "markdown",
      "metadata": {
        "id": "KJjXBNu0Ps0J"
      },
      "source": [
        " ## Удаление выбросов Rooms"
      ]
    },
    {
      "cell_type": "code",
      "metadata": {
        "colab": {
          "base_uri": "https://localhost:8080/",
          "height": 416
        },
        "id": "ttkDoNBm7HdP",
        "outputId": "f12ff8cf-650a-4f47-d6ea-2f30d1816c22"
      },
      "source": [
        "plt.figure(figsize=(14, 6))\n",
        "sns.boxplot(df_train['Rooms'])"
      ],
      "execution_count": 134,
      "outputs": [
        {
          "output_type": "execute_result",
          "data": {
            "text/plain": [
              "<matplotlib.axes._subplots.AxesSubplot at 0x7f4805b3fe90>"
            ]
          },
          "metadata": {},
          "execution_count": 134
        },
        {
          "output_type": "display_data",
          "data": {
            "image/png": "[encoded data removed]",
            "text/plain": [
              "<Figure size 1008x432 with 1 Axes>"
            ]
          },
          "metadata": {}
        }
      ]
    },
    {
      "cell_type": "code",
      "metadata": {
        "colab": {
          "base_uri": "https://localhost:8080/",
          "height": 222
        },
        "id": "B-d0yN8M-JGA",
        "outputId": "2970afbf-e8b3-4828-eb77-09790dc1787d"
      },
      "source": [
        "df_train.loc[df_train['Rooms']>5]"
      ],
      "execution_count": 135,
      "outputs": [
        {
          "output_type": "execute_result",
          "data": {
            "text/html": [
              "<div>\n",
              "<style scoped>\n",
              "    .dataframe tbody tr th:only-of-type {\n",
              "        vertical-align: middle;\n",
              "    }\n",
              "\n",
              "    .dataframe tbody tr th {\n",
              "        vertical-align: top;\n",
              "    }\n",
              "\n",
              "    .dataframe thead th {\n",
              "        text-align: right;\n",
              "    }\n",
              "</style>\n",
              "<table border=\"1\" class=\"dataframe\">\n",
              "  <thead>\n",
              "    <tr style=\"text-align: right;\">\n",
              "      <th></th>\n",
              "      <th>DistrictId</th>\n",
              "      <th>Rooms</th>\n",
              "      <th>Square</th>\n",
              "      <th>LifeSquare</th>\n",
              "      <th>KitchenSquare</th>\n",
              "      <th>Floor</th>\n",
              "      <th>HouseFloor</th>\n",
              "      <th>HouseYear</th>\n",
              "      <th>Ecology_1</th>\n",
              "      <th>Ecology_2</th>\n",
              "      <th>Ecology_3</th>\n",
              "      <th>Social_1</th>\n",
              "      <th>Social_2</th>\n",
              "      <th>Social_3</th>\n",
              "      <th>Healthcare_1</th>\n",
              "      <th>Helthcare_2</th>\n",
              "      <th>Shops_1</th>\n",
              "      <th>Shops_2</th>\n",
              "      <th>Price</th>\n",
              "    </tr>\n",
              "    <tr>\n",
              "      <th>Id</th>\n",
              "      <th></th>\n",
              "      <th></th>\n",
              "      <th></th>\n",
              "      <th></th>\n",
              "      <th></th>\n",
              "      <th></th>\n",
              "      <th></th>\n",
              "      <th></th>\n",
              "      <th></th>\n",
              "      <th></th>\n",
              "      <th></th>\n",
              "      <th></th>\n",
              "      <th></th>\n",
              "      <th></th>\n",
              "      <th></th>\n",
              "      <th></th>\n",
              "      <th></th>\n",
              "      <th></th>\n",
              "      <th></th>\n",
              "    </tr>\n",
              "  </thead>\n",
              "  <tbody>\n",
              "    <tr>\n",
              "      <th>5927</th>\n",
              "      <td>57</td>\n",
              "      <td>10.0</td>\n",
              "      <td>59.056975</td>\n",
              "      <td>36.223072</td>\n",
              "      <td>10.0</td>\n",
              "      <td>22</td>\n",
              "      <td>22.0</td>\n",
              "      <td>2002</td>\n",
              "      <td>0.090799</td>\n",
              "      <td>B</td>\n",
              "      <td>B</td>\n",
              "      <td>74</td>\n",
              "      <td>19083</td>\n",
              "      <td>2</td>\n",
              "      <td>NaN</td>\n",
              "      <td>5</td>\n",
              "      <td>15</td>\n",
              "      <td>B</td>\n",
              "      <td>317265.323792</td>\n",
              "    </tr>\n",
              "    <tr>\n",
              "      <th>8491</th>\n",
              "      <td>1</td>\n",
              "      <td>19.0</td>\n",
              "      <td>42.006046</td>\n",
              "      <td>21.779288</td>\n",
              "      <td>7.0</td>\n",
              "      <td>17</td>\n",
              "      <td>17.0</td>\n",
              "      <td>2014</td>\n",
              "      <td>0.007122</td>\n",
              "      <td>B</td>\n",
              "      <td>B</td>\n",
              "      <td>1</td>\n",
              "      <td>264</td>\n",
              "      <td>0</td>\n",
              "      <td>NaN</td>\n",
              "      <td>0</td>\n",
              "      <td>1</td>\n",
              "      <td>B</td>\n",
              "      <td>78364.616704</td>\n",
              "    </tr>\n",
              "    <tr>\n",
              "      <th>14003</th>\n",
              "      <td>99</td>\n",
              "      <td>6.0</td>\n",
              "      <td>59.414334</td>\n",
              "      <td>38.702244</td>\n",
              "      <td>6.0</td>\n",
              "      <td>7</td>\n",
              "      <td>9.0</td>\n",
              "      <td>1969</td>\n",
              "      <td>0.033494</td>\n",
              "      <td>B</td>\n",
              "      <td>B</td>\n",
              "      <td>66</td>\n",
              "      <td>10573</td>\n",
              "      <td>1</td>\n",
              "      <td>1322.0</td>\n",
              "      <td>3</td>\n",
              "      <td>8</td>\n",
              "      <td>B</td>\n",
              "      <td>229661.964416</td>\n",
              "    </tr>\n",
              "    <tr>\n",
              "      <th>14865</th>\n",
              "      <td>9</td>\n",
              "      <td>10.0</td>\n",
              "      <td>60.871266</td>\n",
              "      <td>38.420681</td>\n",
              "      <td>10.0</td>\n",
              "      <td>3</td>\n",
              "      <td>2.0</td>\n",
              "      <td>1994</td>\n",
              "      <td>0.161532</td>\n",
              "      <td>B</td>\n",
              "      <td>B</td>\n",
              "      <td>25</td>\n",
              "      <td>5648</td>\n",
              "      <td>1</td>\n",
              "      <td>30.0</td>\n",
              "      <td>2</td>\n",
              "      <td>4</td>\n",
              "      <td>B</td>\n",
              "      <td>172329.270863</td>\n",
              "    </tr>\n",
              "  </tbody>\n",
              "</table>\n",
              "</div>"
            ],
            "text/plain": [
              "       DistrictId  Rooms     Square  ...  Shops_1  Shops_2          Price\n",
              "Id                                   ...                                 \n",
              "5927           57   10.0  59.056975  ...       15        B  317265.323792\n",
              "8491            1   19.0  42.006046  ...        1        B   78364.616704\n",
              "14003          99    6.0  59.414334  ...        8        B  229661.964416\n",
              "14865           9   10.0  60.871266  ...        4        B  172329.270863\n",
              "\n",
              "[4 rows x 19 columns]"
            ]
          },
          "metadata": {},
          "execution_count": 135
        }
      ]
    },
    {
      "cell_type": "markdown",
      "metadata": {
        "id": "yJb6RvJs-tih"
      },
      "source": [
        "Так как квартир с количеством комнат больше 5 всего 5 штук, то удалим эти данные"
      ]
    },
    {
      "cell_type": "code",
      "metadata": {
        "id": "gZxY9G3L-4XR"
      },
      "source": [
        "df_train.drop(df_train[df_train['Rooms']>5].index, inplace=True)"
      ],
      "execution_count": 136,
      "outputs": []
    },
    {
      "cell_type": "code",
      "metadata": {
        "colab": {
          "base_uri": "https://localhost:8080/",
          "height": 416
        },
        "id": "ZqMPj70O8JYY",
        "outputId": "213f879c-c1a7-49ba-8f56-fcf82fa2215b"
      },
      "source": [
        "plt.figure(figsize=(14, 6))\n",
        "sns.boxplot(df_train['Rooms'])"
      ],
      "execution_count": 137,
      "outputs": [
        {
          "output_type": "execute_result",
          "data": {
            "text/plain": [
              "<matplotlib.axes._subplots.AxesSubplot at 0x7f4805ebcf50>"
            ]
          },
          "metadata": {},
          "execution_count": 137
        },
        {
          "output_type": "display_data",
          "data": {
            "image/png": "[encoded data removed]",
            "text/plain": [
              "<Figure size 1008x432 with 1 Axes>"
            ]
          },
          "metadata": {}
        }
      ]
    },
    {
      "cell_type": "markdown",
      "metadata": {
        "id": "zFXbqya3P4Fs"
      },
      "source": [
        "## Анализ площади квартир"
      ]
    },
    {
      "cell_type": "code",
      "metadata": {
        "colab": {
          "base_uri": "https://localhost:8080/",
          "height": 433
        },
        "id": "RfJWaxng_8zE",
        "outputId": "075635f1-1adb-4c50-faba-ed4c1c9fdbe2"
      },
      "source": [
        "with sns.axes_style(style='whitegrid'):\n",
        "  grid = sns.jointplot(df_train['Rooms'], df_train['Square'], kind='reg')\n",
        "grid.fig.set_figwidth(10)\n",
        "grid.fig.set_figheight(6)"
      ],
      "execution_count": 138,
      "outputs": [
        {
          "output_type": "display_data",
          "data": {
            "image/png": "[encoded data removed]",
            "text/plain": [
              "<Figure size 720x432 with 3 Axes>"
            ]
          },
          "metadata": {}
        }
      ]
    },
    {
      "cell_type": "markdown",
      "metadata": {
        "id": "kus4XcBKBXix"
      },
      "source": [
        "В первую очередь обработаем значения с площадью больше 200"
      ]
    },
    {
      "cell_type": "code",
      "metadata": {
        "colab": {
          "base_uri": "https://localhost:8080/",
          "height": 283
        },
        "id": "GL603UTLBfd2",
        "outputId": "fe7cd8ac-6730-4a49-d9d1-35e89a5746a3"
      },
      "source": [
        "df_train.loc[df_train['Square'] > 200]"
      ],
      "execution_count": 139,
      "outputs": [
        {
          "output_type": "execute_result",
          "data": {
            "text/html": [
              "<div>\n",
              "<style scoped>\n",
              "    .dataframe tbody tr th:only-of-type {\n",
              "        vertical-align: middle;\n",
              "    }\n",
              "\n",
              "    .dataframe tbody tr th {\n",
              "        vertical-align: top;\n",
              "    }\n",
              "\n",
              "    .dataframe thead th {\n",
              "        text-align: right;\n",
              "    }\n",
              "</style>\n",
              "<table border=\"1\" class=\"dataframe\">\n",
              "  <thead>\n",
              "    <tr style=\"text-align: right;\">\n",
              "      <th></th>\n",
              "      <th>DistrictId</th>\n",
              "      <th>Rooms</th>\n",
              "      <th>Square</th>\n",
              "      <th>LifeSquare</th>\n",
              "      <th>KitchenSquare</th>\n",
              "      <th>Floor</th>\n",
              "      <th>HouseFloor</th>\n",
              "      <th>HouseYear</th>\n",
              "      <th>Ecology_1</th>\n",
              "      <th>Ecology_2</th>\n",
              "      <th>Ecology_3</th>\n",
              "      <th>Social_1</th>\n",
              "      <th>Social_2</th>\n",
              "      <th>Social_3</th>\n",
              "      <th>Healthcare_1</th>\n",
              "      <th>Helthcare_2</th>\n",
              "      <th>Shops_1</th>\n",
              "      <th>Shops_2</th>\n",
              "      <th>Price</th>\n",
              "    </tr>\n",
              "    <tr>\n",
              "      <th>Id</th>\n",
              "      <th></th>\n",
              "      <th></th>\n",
              "      <th></th>\n",
              "      <th></th>\n",
              "      <th></th>\n",
              "      <th></th>\n",
              "      <th></th>\n",
              "      <th></th>\n",
              "      <th></th>\n",
              "      <th></th>\n",
              "      <th></th>\n",
              "      <th></th>\n",
              "      <th></th>\n",
              "      <th></th>\n",
              "      <th></th>\n",
              "      <th></th>\n",
              "      <th></th>\n",
              "      <th></th>\n",
              "      <th></th>\n",
              "    </tr>\n",
              "  </thead>\n",
              "  <tbody>\n",
              "    <tr>\n",
              "      <th>7917</th>\n",
              "      <td>27</td>\n",
              "      <td>0.0</td>\n",
              "      <td>212.932361</td>\n",
              "      <td>211.231125</td>\n",
              "      <td>0.0</td>\n",
              "      <td>2</td>\n",
              "      <td>3.0</td>\n",
              "      <td>2008</td>\n",
              "      <td>0.211401</td>\n",
              "      <td>B</td>\n",
              "      <td>B</td>\n",
              "      <td>9</td>\n",
              "      <td>1892</td>\n",
              "      <td>0</td>\n",
              "      <td>NaN</td>\n",
              "      <td>0</td>\n",
              "      <td>1</td>\n",
              "      <td>B</td>\n",
              "      <td>302211.260887</td>\n",
              "    </tr>\n",
              "    <tr>\n",
              "      <th>5548</th>\n",
              "      <td>86</td>\n",
              "      <td>5.0</td>\n",
              "      <td>275.645284</td>\n",
              "      <td>233.949309</td>\n",
              "      <td>26.0</td>\n",
              "      <td>12</td>\n",
              "      <td>37.0</td>\n",
              "      <td>2011</td>\n",
              "      <td>0.161976</td>\n",
              "      <td>B</td>\n",
              "      <td>A</td>\n",
              "      <td>31</td>\n",
              "      <td>7010</td>\n",
              "      <td>5</td>\n",
              "      <td>4508.0</td>\n",
              "      <td>3</td>\n",
              "      <td>7</td>\n",
              "      <td>B</td>\n",
              "      <td>455264.882666</td>\n",
              "    </tr>\n",
              "    <tr>\n",
              "      <th>28</th>\n",
              "      <td>9</td>\n",
              "      <td>2.0</td>\n",
              "      <td>604.705972</td>\n",
              "      <td>NaN</td>\n",
              "      <td>1.0</td>\n",
              "      <td>17</td>\n",
              "      <td>18.0</td>\n",
              "      <td>1977</td>\n",
              "      <td>0.161532</td>\n",
              "      <td>B</td>\n",
              "      <td>B</td>\n",
              "      <td>25</td>\n",
              "      <td>5648</td>\n",
              "      <td>1</td>\n",
              "      <td>30.0</td>\n",
              "      <td>2</td>\n",
              "      <td>4</td>\n",
              "      <td>B</td>\n",
              "      <td>187717.242538</td>\n",
              "    </tr>\n",
              "    <tr>\n",
              "      <th>2307</th>\n",
              "      <td>102</td>\n",
              "      <td>1.0</td>\n",
              "      <td>409.425181</td>\n",
              "      <td>410.639749</td>\n",
              "      <td>10.0</td>\n",
              "      <td>4</td>\n",
              "      <td>4.0</td>\n",
              "      <td>2016</td>\n",
              "      <td>0.238617</td>\n",
              "      <td>B</td>\n",
              "      <td>B</td>\n",
              "      <td>26</td>\n",
              "      <td>3889</td>\n",
              "      <td>6</td>\n",
              "      <td>705.0</td>\n",
              "      <td>3</td>\n",
              "      <td>6</td>\n",
              "      <td>B</td>\n",
              "      <td>90470.430830</td>\n",
              "    </tr>\n",
              "    <tr>\n",
              "      <th>11602</th>\n",
              "      <td>30</td>\n",
              "      <td>2.0</td>\n",
              "      <td>641.065193</td>\n",
              "      <td>638.163193</td>\n",
              "      <td>10.0</td>\n",
              "      <td>20</td>\n",
              "      <td>19.0</td>\n",
              "      <td>2019</td>\n",
              "      <td>0.000078</td>\n",
              "      <td>B</td>\n",
              "      <td>B</td>\n",
              "      <td>22</td>\n",
              "      <td>6398</td>\n",
              "      <td>141</td>\n",
              "      <td>1046.0</td>\n",
              "      <td>3</td>\n",
              "      <td>23</td>\n",
              "      <td>B</td>\n",
              "      <td>133529.681562</td>\n",
              "    </tr>\n",
              "    <tr>\n",
              "      <th>16568</th>\n",
              "      <td>27</td>\n",
              "      <td>4.0</td>\n",
              "      <td>200.334539</td>\n",
              "      <td>201.627361</td>\n",
              "      <td>25.0</td>\n",
              "      <td>1</td>\n",
              "      <td>2.0</td>\n",
              "      <td>2013</td>\n",
              "      <td>0.041116</td>\n",
              "      <td>B</td>\n",
              "      <td>B</td>\n",
              "      <td>53</td>\n",
              "      <td>14892</td>\n",
              "      <td>4</td>\n",
              "      <td>NaN</td>\n",
              "      <td>1</td>\n",
              "      <td>4</td>\n",
              "      <td>B</td>\n",
              "      <td>528560.506016</td>\n",
              "    </tr>\n",
              "  </tbody>\n",
              "</table>\n",
              "</div>"
            ],
            "text/plain": [
              "       DistrictId  Rooms      Square  ...  Shops_1  Shops_2          Price\n",
              "Id                                    ...                                 \n",
              "7917           27    0.0  212.932361  ...        1        B  302211.260887\n",
              "5548           86    5.0  275.645284  ...        7        B  455264.882666\n",
              "28              9    2.0  604.705972  ...        4        B  187717.242538\n",
              "2307          102    1.0  409.425181  ...        6        B   90470.430830\n",
              "11602          30    2.0  641.065193  ...       23        B  133529.681562\n",
              "16568          27    4.0  200.334539  ...        4        B  528560.506016\n",
              "\n",
              "[6 rows x 19 columns]"
            ]
          },
          "metadata": {},
          "execution_count": 139
        }
      ]
    },
    {
      "cell_type": "markdown",
      "metadata": {
        "id": "FzDznVPSB_mJ"
      },
      "source": [
        "Удалим эти 5 значений"
      ]
    },
    {
      "cell_type": "code",
      "metadata": {
        "id": "0u0NUKs3CFIt"
      },
      "source": [
        "df_train.drop(df_train[df_train['Square'] > 200].index, inplace=True)"
      ],
      "execution_count": 140,
      "outputs": []
    },
    {
      "cell_type": "code",
      "metadata": {
        "colab": {
          "base_uri": "https://localhost:8080/",
          "height": 433
        },
        "id": "Ov1J55DICdTY",
        "outputId": "7079429a-2b02-4433-ef5e-c495834d2f32"
      },
      "source": [
        "with sns.axes_style(style='whitegrid'):\n",
        "  grid = sns.jointplot(df_train['Rooms'], df_train['Square'], kind='reg')\n",
        "grid.fig.set_figwidth(10)\n",
        "grid.fig.set_figheight(6)"
      ],
      "execution_count": 141,
      "outputs": [
        {
          "output_type": "display_data",
          "data": {
            "image/png": "[encoded data removed]",
            "text/plain": [
              "<Figure size 720x432 with 3 Axes>"
            ]
          },
          "metadata": {}
        }
      ]
    },
    {
      "cell_type": "markdown",
      "metadata": {
        "id": "wrjkixj6P-rp"
      },
      "source": [
        "### Исправление наверных площадей квартир"
      ]
    },
    {
      "cell_type": "markdown",
      "metadata": {
        "id": "5UYGXLFcDYUH"
      },
      "source": [
        "Проверим случаи, когда жилая площадь меньше общай площади. Так как этого быть не может, то можно предположить, что в данном случае жилая и общая площади перепутаны местам."
      ]
    },
    {
      "cell_type": "code",
      "metadata": {
        "colab": {
          "base_uri": "https://localhost:8080/",
          "height": 252
        },
        "id": "J1H64iRACI1k",
        "outputId": "a845a709-b1d3-4d02-efab-475869ec6278"
      },
      "source": [
        "df_foo = df_train.loc[df_train['Square'] < df_train['LifeSquare']]\n",
        "df_foo.head()"
      ],
      "execution_count": 142,
      "outputs": [
        {
          "output_type": "execute_result",
          "data": {
            "text/html": [
              "<div>\n",
              "<style scoped>\n",
              "    .dataframe tbody tr th:only-of-type {\n",
              "        vertical-align: middle;\n",
              "    }\n",
              "\n",
              "    .dataframe tbody tr th {\n",
              "        vertical-align: top;\n",
              "    }\n",
              "\n",
              "    .dataframe thead th {\n",
              "        text-align: right;\n",
              "    }\n",
              "</style>\n",
              "<table border=\"1\" class=\"dataframe\">\n",
              "  <thead>\n",
              "    <tr style=\"text-align: right;\">\n",
              "      <th></th>\n",
              "      <th>DistrictId</th>\n",
              "      <th>Rooms</th>\n",
              "      <th>Square</th>\n",
              "      <th>LifeSquare</th>\n",
              "      <th>KitchenSquare</th>\n",
              "      <th>Floor</th>\n",
              "      <th>HouseFloor</th>\n",
              "      <th>HouseYear</th>\n",
              "      <th>Ecology_1</th>\n",
              "      <th>Ecology_2</th>\n",
              "      <th>Ecology_3</th>\n",
              "      <th>Social_1</th>\n",
              "      <th>Social_2</th>\n",
              "      <th>Social_3</th>\n",
              "      <th>Healthcare_1</th>\n",
              "      <th>Helthcare_2</th>\n",
              "      <th>Shops_1</th>\n",
              "      <th>Shops_2</th>\n",
              "      <th>Price</th>\n",
              "    </tr>\n",
              "    <tr>\n",
              "      <th>Id</th>\n",
              "      <th></th>\n",
              "      <th></th>\n",
              "      <th></th>\n",
              "      <th></th>\n",
              "      <th></th>\n",
              "      <th></th>\n",
              "      <th></th>\n",
              "      <th></th>\n",
              "      <th></th>\n",
              "      <th></th>\n",
              "      <th></th>\n",
              "      <th></th>\n",
              "      <th></th>\n",
              "      <th></th>\n",
              "      <th></th>\n",
              "      <th></th>\n",
              "      <th></th>\n",
              "      <th></th>\n",
              "      <th></th>\n",
              "    </tr>\n",
              "  </thead>\n",
              "  <tbody>\n",
              "    <tr>\n",
              "      <th>8054</th>\n",
              "      <td>23</td>\n",
              "      <td>1.0</td>\n",
              "      <td>42.530043</td>\n",
              "      <td>43.967759</td>\n",
              "      <td>1.0</td>\n",
              "      <td>3</td>\n",
              "      <td>9.0</td>\n",
              "      <td>2014</td>\n",
              "      <td>0.034656</td>\n",
              "      <td>B</td>\n",
              "      <td>B</td>\n",
              "      <td>0</td>\n",
              "      <td>168</td>\n",
              "      <td>0</td>\n",
              "      <td>NaN</td>\n",
              "      <td>0</td>\n",
              "      <td>0</td>\n",
              "      <td>B</td>\n",
              "      <td>95338.198549</td>\n",
              "    </tr>\n",
              "    <tr>\n",
              "      <th>10521</th>\n",
              "      <td>38</td>\n",
              "      <td>3.0</td>\n",
              "      <td>104.211396</td>\n",
              "      <td>106.340403</td>\n",
              "      <td>0.0</td>\n",
              "      <td>20</td>\n",
              "      <td>0.0</td>\n",
              "      <td>2017</td>\n",
              "      <td>0.060753</td>\n",
              "      <td>B</td>\n",
              "      <td>B</td>\n",
              "      <td>15</td>\n",
              "      <td>2787</td>\n",
              "      <td>2</td>\n",
              "      <td>520.0</td>\n",
              "      <td>0</td>\n",
              "      <td>7</td>\n",
              "      <td>B</td>\n",
              "      <td>435462.048070</td>\n",
              "    </tr>\n",
              "    <tr>\n",
              "      <th>2301</th>\n",
              "      <td>1</td>\n",
              "      <td>2.0</td>\n",
              "      <td>61.400054</td>\n",
              "      <td>65.224603</td>\n",
              "      <td>0.0</td>\n",
              "      <td>17</td>\n",
              "      <td>22.0</td>\n",
              "      <td>2016</td>\n",
              "      <td>0.007122</td>\n",
              "      <td>B</td>\n",
              "      <td>B</td>\n",
              "      <td>1</td>\n",
              "      <td>264</td>\n",
              "      <td>0</td>\n",
              "      <td>NaN</td>\n",
              "      <td>0</td>\n",
              "      <td>1</td>\n",
              "      <td>B</td>\n",
              "      <td>199215.452229</td>\n",
              "    </tr>\n",
              "    <tr>\n",
              "      <th>8753</th>\n",
              "      <td>25</td>\n",
              "      <td>3.0</td>\n",
              "      <td>85.952306</td>\n",
              "      <td>89.803753</td>\n",
              "      <td>1.0</td>\n",
              "      <td>4</td>\n",
              "      <td>3.0</td>\n",
              "      <td>2017</td>\n",
              "      <td>0.069753</td>\n",
              "      <td>B</td>\n",
              "      <td>B</td>\n",
              "      <td>53</td>\n",
              "      <td>13670</td>\n",
              "      <td>4</td>\n",
              "      <td>NaN</td>\n",
              "      <td>1</td>\n",
              "      <td>11</td>\n",
              "      <td>B</td>\n",
              "      <td>309688.592681</td>\n",
              "    </tr>\n",
              "    <tr>\n",
              "      <th>9870</th>\n",
              "      <td>62</td>\n",
              "      <td>1.0</td>\n",
              "      <td>51.831473</td>\n",
              "      <td>53.491301</td>\n",
              "      <td>1.0</td>\n",
              "      <td>5</td>\n",
              "      <td>1.0</td>\n",
              "      <td>2015</td>\n",
              "      <td>0.072158</td>\n",
              "      <td>B</td>\n",
              "      <td>B</td>\n",
              "      <td>2</td>\n",
              "      <td>629</td>\n",
              "      <td>1</td>\n",
              "      <td>NaN</td>\n",
              "      <td>0</td>\n",
              "      <td>0</td>\n",
              "      <td>A</td>\n",
              "      <td>131797.472284</td>\n",
              "    </tr>\n",
              "  </tbody>\n",
              "</table>\n",
              "</div>"
            ],
            "text/plain": [
              "       DistrictId  Rooms      Square  ...  Shops_1  Shops_2          Price\n",
              "Id                                    ...                                 \n",
              "8054           23    1.0   42.530043  ...        0        B   95338.198549\n",
              "10521          38    3.0  104.211396  ...        7        B  435462.048070\n",
              "2301            1    2.0   61.400054  ...        1        B  199215.452229\n",
              "8753           25    3.0   85.952306  ...       11        B  309688.592681\n",
              "9870           62    1.0   51.831473  ...        0        A  131797.472284\n",
              "\n",
              "[5 rows x 19 columns]"
            ]
          },
          "metadata": {},
          "execution_count": 142
        }
      ]
    },
    {
      "cell_type": "markdown",
      "metadata": {
        "id": "Qir6ZmdHDhcb"
      },
      "source": [
        "Данных достаточно много, поэтому удалять их не стоит. Необходимо поменять их местами."
      ]
    },
    {
      "cell_type": "code",
      "metadata": {
        "id": "6T4YKNBqHmZF"
      },
      "source": [
        "df_foo_indexes = df_foo.index"
      ],
      "execution_count": 143,
      "outputs": []
    },
    {
      "cell_type": "code",
      "metadata": {
        "id": "QT6SbcwnEGvv"
      },
      "source": [
        "#Данный код последовательно в датасете меняет местами общую плоащдь и площадь жилую\n",
        "for i in df_foo_indexes:\n",
        "  new_square = df_foo.loc[i, 'LifeSquare']\n",
        "  new_lifesquare = df_foo.loc[i, 'Square']\n",
        "  df_foo.loc[i,'LifeSquare'] = new_lifesquare\n",
        "  df_foo.loc[i, 'Square'] = new_square\n",
        "  #print(i, df_foo.loc[i, 'LifeSquare'])"
      ],
      "execution_count": 144,
      "outputs": []
    },
    {
      "cell_type": "code",
      "metadata": {
        "colab": {
          "base_uri": "https://localhost:8080/",
          "height": 252
        },
        "id": "k0nUi9ZAMR8A",
        "outputId": "23307bd2-5058-42e3-d0a5-483c3a006b55"
      },
      "source": [
        "df_foo.head()"
      ],
      "execution_count": 145,
      "outputs": [
        {
          "output_type": "execute_result",
          "data": {
            "text/html": [
              "<div>\n",
              "<style scoped>\n",
              "    .dataframe tbody tr th:only-of-type {\n",
              "        vertical-align: middle;\n",
              "    }\n",
              "\n",
              "    .dataframe tbody tr th {\n",
              "        vertical-align: top;\n",
              "    }\n",
              "\n",
              "    .dataframe thead th {\n",
              "        text-align: right;\n",
              "    }\n",
              "</style>\n",
              "<table border=\"1\" class=\"dataframe\">\n",
              "  <thead>\n",
              "    <tr style=\"text-align: right;\">\n",
              "      <th></th>\n",
              "      <th>DistrictId</th>\n",
              "      <th>Rooms</th>\n",
              "      <th>Square</th>\n",
              "      <th>LifeSquare</th>\n",
              "      <th>KitchenSquare</th>\n",
              "      <th>Floor</th>\n",
              "      <th>HouseFloor</th>\n",
              "      <th>HouseYear</th>\n",
              "      <th>Ecology_1</th>\n",
              "      <th>Ecology_2</th>\n",
              "      <th>Ecology_3</th>\n",
              "      <th>Social_1</th>\n",
              "      <th>Social_2</th>\n",
              "      <th>Social_3</th>\n",
              "      <th>Healthcare_1</th>\n",
              "      <th>Helthcare_2</th>\n",
              "      <th>Shops_1</th>\n",
              "      <th>Shops_2</th>\n",
              "      <th>Price</th>\n",
              "    </tr>\n",
              "    <tr>\n",
              "      <th>Id</th>\n",
              "      <th></th>\n",
              "      <th></th>\n",
              "      <th></th>\n",
              "      <th></th>\n",
              "      <th></th>\n",
              "      <th></th>\n",
              "      <th></th>\n",
              "      <th></th>\n",
              "      <th></th>\n",
              "      <th></th>\n",
              "      <th></th>\n",
              "      <th></th>\n",
              "      <th></th>\n",
              "      <th></th>\n",
              "      <th></th>\n",
              "      <th></th>\n",
              "      <th></th>\n",
              "      <th></th>\n",
              "      <th></th>\n",
              "    </tr>\n",
              "  </thead>\n",
              "  <tbody>\n",
              "    <tr>\n",
              "      <th>8054</th>\n",
              "      <td>23</td>\n",
              "      <td>1.0</td>\n",
              "      <td>43.967759</td>\n",
              "      <td>42.530043</td>\n",
              "      <td>1.0</td>\n",
              "      <td>3</td>\n",
              "      <td>9.0</td>\n",
              "      <td>2014</td>\n",
              "      <td>0.034656</td>\n",
              "      <td>B</td>\n",
              "      <td>B</td>\n",
              "      <td>0</td>\n",
              "      <td>168</td>\n",
              "      <td>0</td>\n",
              "      <td>NaN</td>\n",
              "      <td>0</td>\n",
              "      <td>0</td>\n",
              "      <td>B</td>\n",
              "      <td>95338.198549</td>\n",
              "    </tr>\n",
              "    <tr>\n",
              "      <th>10521</th>\n",
              "      <td>38</td>\n",
              "      <td>3.0</td>\n",
              "      <td>106.340403</td>\n",
              "      <td>104.211396</td>\n",
              "      <td>0.0</td>\n",
              "      <td>20</td>\n",
              "      <td>0.0</td>\n",
              "      <td>2017</td>\n",
              "      <td>0.060753</td>\n",
              "      <td>B</td>\n",
              "      <td>B</td>\n",
              "      <td>15</td>\n",
              "      <td>2787</td>\n",
              "      <td>2</td>\n",
              "      <td>520.0</td>\n",
              "      <td>0</td>\n",
              "      <td>7</td>\n",
              "      <td>B</td>\n",
              "      <td>435462.048070</td>\n",
              "    </tr>\n",
              "    <tr>\n",
              "      <th>2301</th>\n",
              "      <td>1</td>\n",
              "      <td>2.0</td>\n",
              "      <td>65.224603</td>\n",
              "      <td>61.400054</td>\n",
              "      <td>0.0</td>\n",
              "      <td>17</td>\n",
              "      <td>22.0</td>\n",
              "      <td>2016</td>\n",
              "      <td>0.007122</td>\n",
              "      <td>B</td>\n",
              "      <td>B</td>\n",
              "      <td>1</td>\n",
              "      <td>264</td>\n",
              "      <td>0</td>\n",
              "      <td>NaN</td>\n",
              "      <td>0</td>\n",
              "      <td>1</td>\n",
              "      <td>B</td>\n",
              "      <td>199215.452229</td>\n",
              "    </tr>\n",
              "    <tr>\n",
              "      <th>8753</th>\n",
              "      <td>25</td>\n",
              "      <td>3.0</td>\n",
              "      <td>89.803753</td>\n",
              "      <td>85.952306</td>\n",
              "      <td>1.0</td>\n",
              "      <td>4</td>\n",
              "      <td>3.0</td>\n",
              "      <td>2017</td>\n",
              "      <td>0.069753</td>\n",
              "      <td>B</td>\n",
              "      <td>B</td>\n",
              "      <td>53</td>\n",
              "      <td>13670</td>\n",
              "      <td>4</td>\n",
              "      <td>NaN</td>\n",
              "      <td>1</td>\n",
              "      <td>11</td>\n",
              "      <td>B</td>\n",
              "      <td>309688.592681</td>\n",
              "    </tr>\n",
              "    <tr>\n",
              "      <th>9870</th>\n",
              "      <td>62</td>\n",
              "      <td>1.0</td>\n",
              "      <td>53.491301</td>\n",
              "      <td>51.831473</td>\n",
              "      <td>1.0</td>\n",
              "      <td>5</td>\n",
              "      <td>1.0</td>\n",
              "      <td>2015</td>\n",
              "      <td>0.072158</td>\n",
              "      <td>B</td>\n",
              "      <td>B</td>\n",
              "      <td>2</td>\n",
              "      <td>629</td>\n",
              "      <td>1</td>\n",
              "      <td>NaN</td>\n",
              "      <td>0</td>\n",
              "      <td>0</td>\n",
              "      <td>A</td>\n",
              "      <td>131797.472284</td>\n",
              "    </tr>\n",
              "  </tbody>\n",
              "</table>\n",
              "</div>"
            ],
            "text/plain": [
              "       DistrictId  Rooms      Square  ...  Shops_1  Shops_2          Price\n",
              "Id                                    ...                                 \n",
              "8054           23    1.0   43.967759  ...        0        B   95338.198549\n",
              "10521          38    3.0  106.340403  ...        7        B  435462.048070\n",
              "2301            1    2.0   65.224603  ...        1        B  199215.452229\n",
              "8753           25    3.0   89.803753  ...       11        B  309688.592681\n",
              "9870           62    1.0   53.491301  ...        0        A  131797.472284\n",
              "\n",
              "[5 rows x 19 columns]"
            ]
          },
          "metadata": {},
          "execution_count": 145
        }
      ]
    },
    {
      "cell_type": "code",
      "metadata": {
        "id": "sf7isrYrNIGG"
      },
      "source": [
        "#Удаляем часть таблицы, где общая площадь меньше площади жилой\n",
        "df_train.drop(df_train[df_train['Square'] < df_train['LifeSquare']].index, inplace=True)"
      ],
      "execution_count": 146,
      "outputs": []
    },
    {
      "cell_type": "code",
      "metadata": {
        "colab": {
          "base_uri": "https://localhost:8080/",
          "height": 252
        },
        "id": "TDJ-WFlvO5cF",
        "outputId": "96c478a4-058d-4d63-e807-1778f8cba335"
      },
      "source": [
        "#Добавляем в таблицу наши исправленные данные\n",
        "df_train.append(df_foo).head()"
      ],
      "execution_count": 147,
      "outputs": [
        {
          "output_type": "execute_result",
          "data": {
            "text/html": [
              "<div>\n",
              "<style scoped>\n",
              "    .dataframe tbody tr th:only-of-type {\n",
              "        vertical-align: middle;\n",
              "    }\n",
              "\n",
              "    .dataframe tbody tr th {\n",
              "        vertical-align: top;\n",
              "    }\n",
              "\n",
              "    .dataframe thead th {\n",
              "        text-align: right;\n",
              "    }\n",
              "</style>\n",
              "<table border=\"1\" class=\"dataframe\">\n",
              "  <thead>\n",
              "    <tr style=\"text-align: right;\">\n",
              "      <th></th>\n",
              "      <th>DistrictId</th>\n",
              "      <th>Rooms</th>\n",
              "      <th>Square</th>\n",
              "      <th>LifeSquare</th>\n",
              "      <th>KitchenSquare</th>\n",
              "      <th>Floor</th>\n",
              "      <th>HouseFloor</th>\n",
              "      <th>HouseYear</th>\n",
              "      <th>Ecology_1</th>\n",
              "      <th>Ecology_2</th>\n",
              "      <th>Ecology_3</th>\n",
              "      <th>Social_1</th>\n",
              "      <th>Social_2</th>\n",
              "      <th>Social_3</th>\n",
              "      <th>Healthcare_1</th>\n",
              "      <th>Helthcare_2</th>\n",
              "      <th>Shops_1</th>\n",
              "      <th>Shops_2</th>\n",
              "      <th>Price</th>\n",
              "    </tr>\n",
              "    <tr>\n",
              "      <th>Id</th>\n",
              "      <th></th>\n",
              "      <th></th>\n",
              "      <th></th>\n",
              "      <th></th>\n",
              "      <th></th>\n",
              "      <th></th>\n",
              "      <th></th>\n",
              "      <th></th>\n",
              "      <th></th>\n",
              "      <th></th>\n",
              "      <th></th>\n",
              "      <th></th>\n",
              "      <th></th>\n",
              "      <th></th>\n",
              "      <th></th>\n",
              "      <th></th>\n",
              "      <th></th>\n",
              "      <th></th>\n",
              "      <th></th>\n",
              "    </tr>\n",
              "  </thead>\n",
              "  <tbody>\n",
              "    <tr>\n",
              "      <th>14038</th>\n",
              "      <td>35</td>\n",
              "      <td>2.0</td>\n",
              "      <td>47.981561</td>\n",
              "      <td>29.442751</td>\n",
              "      <td>6.0</td>\n",
              "      <td>7</td>\n",
              "      <td>9.0</td>\n",
              "      <td>1969</td>\n",
              "      <td>0.089040</td>\n",
              "      <td>B</td>\n",
              "      <td>B</td>\n",
              "      <td>33</td>\n",
              "      <td>7976</td>\n",
              "      <td>5</td>\n",
              "      <td>NaN</td>\n",
              "      <td>0</td>\n",
              "      <td>11</td>\n",
              "      <td>B</td>\n",
              "      <td>184966.930730</td>\n",
              "    </tr>\n",
              "    <tr>\n",
              "      <th>15053</th>\n",
              "      <td>41</td>\n",
              "      <td>3.0</td>\n",
              "      <td>65.683640</td>\n",
              "      <td>40.049543</td>\n",
              "      <td>8.0</td>\n",
              "      <td>7</td>\n",
              "      <td>9.0</td>\n",
              "      <td>1978</td>\n",
              "      <td>0.000070</td>\n",
              "      <td>B</td>\n",
              "      <td>B</td>\n",
              "      <td>46</td>\n",
              "      <td>10309</td>\n",
              "      <td>1</td>\n",
              "      <td>240.0</td>\n",
              "      <td>1</td>\n",
              "      <td>16</td>\n",
              "      <td>B</td>\n",
              "      <td>300009.450063</td>\n",
              "    </tr>\n",
              "    <tr>\n",
              "      <th>4765</th>\n",
              "      <td>53</td>\n",
              "      <td>2.0</td>\n",
              "      <td>44.947953</td>\n",
              "      <td>29.197612</td>\n",
              "      <td>0.0</td>\n",
              "      <td>8</td>\n",
              "      <td>12.0</td>\n",
              "      <td>1968</td>\n",
              "      <td>0.049637</td>\n",
              "      <td>B</td>\n",
              "      <td>B</td>\n",
              "      <td>34</td>\n",
              "      <td>7759</td>\n",
              "      <td>0</td>\n",
              "      <td>229.0</td>\n",
              "      <td>1</td>\n",
              "      <td>3</td>\n",
              "      <td>B</td>\n",
              "      <td>220925.908524</td>\n",
              "    </tr>\n",
              "    <tr>\n",
              "      <th>5809</th>\n",
              "      <td>58</td>\n",
              "      <td>2.0</td>\n",
              "      <td>53.352981</td>\n",
              "      <td>52.731512</td>\n",
              "      <td>9.0</td>\n",
              "      <td>8</td>\n",
              "      <td>17.0</td>\n",
              "      <td>1977</td>\n",
              "      <td>0.437885</td>\n",
              "      <td>B</td>\n",
              "      <td>B</td>\n",
              "      <td>23</td>\n",
              "      <td>5735</td>\n",
              "      <td>3</td>\n",
              "      <td>1084.0</td>\n",
              "      <td>0</td>\n",
              "      <td>5</td>\n",
              "      <td>B</td>\n",
              "      <td>175616.227217</td>\n",
              "    </tr>\n",
              "    <tr>\n",
              "      <th>10783</th>\n",
              "      <td>99</td>\n",
              "      <td>1.0</td>\n",
              "      <td>39.649192</td>\n",
              "      <td>23.776169</td>\n",
              "      <td>7.0</td>\n",
              "      <td>11</td>\n",
              "      <td>12.0</td>\n",
              "      <td>1976</td>\n",
              "      <td>0.012339</td>\n",
              "      <td>B</td>\n",
              "      <td>B</td>\n",
              "      <td>35</td>\n",
              "      <td>5776</td>\n",
              "      <td>1</td>\n",
              "      <td>2078.0</td>\n",
              "      <td>2</td>\n",
              "      <td>4</td>\n",
              "      <td>B</td>\n",
              "      <td>150226.531644</td>\n",
              "    </tr>\n",
              "  </tbody>\n",
              "</table>\n",
              "</div>"
            ],
            "text/plain": [
              "       DistrictId  Rooms     Square  ...  Shops_1  Shops_2          Price\n",
              "Id                                   ...                                 \n",
              "14038          35    2.0  47.981561  ...       11        B  184966.930730\n",
              "15053          41    3.0  65.683640  ...       16        B  300009.450063\n",
              "4765           53    2.0  44.947953  ...        3        B  220925.908524\n",
              "5809           58    2.0  53.352981  ...        5        B  175616.227217\n",
              "10783          99    1.0  39.649192  ...        4        B  150226.531644\n",
              "\n",
              "[5 rows x 19 columns]"
            ]
          },
          "metadata": {},
          "execution_count": 147
        }
      ]
    },
    {
      "cell_type": "code",
      "metadata": {
        "colab": {
          "base_uri": "https://localhost:8080/",
          "height": 98
        },
        "id": "DjCrKnDGPLO2",
        "outputId": "a50e25a6-5167-4b3d-df49-bfab7ea84abf"
      },
      "source": [
        "#Проверка\n",
        "df_train.loc[df_train['Square'] < df_train['LifeSquare']]"
      ],
      "execution_count": 148,
      "outputs": [
        {
          "output_type": "execute_result",
          "data": {
            "text/html": [
              "<div>\n",
              "<style scoped>\n",
              "    .dataframe tbody tr th:only-of-type {\n",
              "        vertical-align: middle;\n",
              "    }\n",
              "\n",
              "    .dataframe tbody tr th {\n",
              "        vertical-align: top;\n",
              "    }\n",
              "\n",
              "    .dataframe thead th {\n",
              "        text-align: right;\n",
              "    }\n",
              "</style>\n",
              "<table border=\"1\" class=\"dataframe\">\n",
              "  <thead>\n",
              "    <tr style=\"text-align: right;\">\n",
              "      <th></th>\n",
              "      <th>DistrictId</th>\n",
              "      <th>Rooms</th>\n",
              "      <th>Square</th>\n",
              "      <th>LifeSquare</th>\n",
              "      <th>KitchenSquare</th>\n",
              "      <th>Floor</th>\n",
              "      <th>HouseFloor</th>\n",
              "      <th>HouseYear</th>\n",
              "      <th>Ecology_1</th>\n",
              "      <th>Ecology_2</th>\n",
              "      <th>Ecology_3</th>\n",
              "      <th>Social_1</th>\n",
              "      <th>Social_2</th>\n",
              "      <th>Social_3</th>\n",
              "      <th>Healthcare_1</th>\n",
              "      <th>Helthcare_2</th>\n",
              "      <th>Shops_1</th>\n",
              "      <th>Shops_2</th>\n",
              "      <th>Price</th>\n",
              "    </tr>\n",
              "    <tr>\n",
              "      <th>Id</th>\n",
              "      <th></th>\n",
              "      <th></th>\n",
              "      <th></th>\n",
              "      <th></th>\n",
              "      <th></th>\n",
              "      <th></th>\n",
              "      <th></th>\n",
              "      <th></th>\n",
              "      <th></th>\n",
              "      <th></th>\n",
              "      <th></th>\n",
              "      <th></th>\n",
              "      <th></th>\n",
              "      <th></th>\n",
              "      <th></th>\n",
              "      <th></th>\n",
              "      <th></th>\n",
              "      <th></th>\n",
              "      <th></th>\n",
              "    </tr>\n",
              "  </thead>\n",
              "  <tbody>\n",
              "  </tbody>\n",
              "</table>\n",
              "</div>"
            ],
            "text/plain": [
              "Empty DataFrame\n",
              "Columns: [DistrictId, Rooms, Square, LifeSquare, KitchenSquare, Floor, HouseFloor, HouseYear, Ecology_1, Ecology_2, Ecology_3, Social_1, Social_2, Social_3, Healthcare_1, Helthcare_2, Shops_1, Shops_2, Price]\n",
              "Index: []"
            ]
          },
          "metadata": {},
          "execution_count": 148
        }
      ]
    },
    {
      "cell_type": "markdown",
      "metadata": {
        "id": "iEShaWiIPT0F"
      },
      "source": [
        "Таким образом, удалось поменять местами общую площадь и жилую площадь."
      ]
    },
    {
      "cell_type": "markdown",
      "metadata": {
        "id": "3rC5e8mSUije"
      },
      "source": [
        "### Поиск зависимостей площадей и комнат"
      ]
    },
    {
      "cell_type": "markdown",
      "metadata": {
        "id": "47epH8fPjcST"
      },
      "source": [
        "Для начала создадим категориальный признак количества комнат на основе существующего количественного."
      ]
    },
    {
      "cell_type": "code",
      "metadata": {
        "colab": {
          "base_uri": "https://localhost:8080/"
        },
        "id": "ZHOKCnKtjx_4",
        "outputId": "3afd8cce-8f52-4ac4-f8f8-810f5a387150"
      },
      "source": [
        "bins_rooms = [-0.01, 0, 1.01, 2.01, 3.01, 4.01, 5.01]\n",
        "label_rooms = ['0', '1', '2', '3', '4', '5']\n",
        "\n",
        "df_train['Rooms_cat'] = pd.cut(df_train['Rooms'], bins = bins_rooms, labels = label_rooms)\n",
        "\n",
        "df_train['Rooms_cat'].value_counts()"
      ],
      "execution_count": 149,
      "outputs": [
        {
          "output_type": "execute_result",
          "data": {
            "text/plain": [
              "2    3716\n",
              "1    3487\n",
              "3    2140\n",
              "4     143\n",
              "5      17\n",
              "0       7\n",
              "Name: Rooms_cat, dtype: int64"
            ]
          },
          "metadata": {},
          "execution_count": 149
        }
      ]
    },
    {
      "cell_type": "code",
      "metadata": {
        "colab": {
          "base_uri": "https://localhost:8080/"
        },
        "id": "FZalR5w4kAIo",
        "outputId": "384255b2-b92d-4903-ad0b-0ecc3e609d1a"
      },
      "source": [
        "group_sq_value = df_train.groupby('Rooms_cat')['Square'].median()\n",
        "group_sq_value"
      ],
      "execution_count": 150,
      "outputs": [
        {
          "output_type": "execute_result",
          "data": {
            "text/plain": [
              "Rooms_cat\n",
              "0     49.483501\n",
              "1     40.372621\n",
              "2     55.593963\n",
              "3     77.231852\n",
              "4     98.119575\n",
              "5    114.313752\n",
              "Name: Square, dtype: float64"
            ]
          },
          "metadata": {},
          "execution_count": 150
        }
      ]
    },
    {
      "cell_type": "code",
      "metadata": {
        "colab": {
          "base_uri": "https://localhost:8080/",
          "height": 451
        },
        "id": "IYnwFGBamJdW",
        "outputId": "418faab6-17bb-4997-ee76-1ca6c44f6bb8"
      },
      "source": [
        "sns.catplot(x='Square', y='Rooms_cat', data= df_train, kind= 'box', size= 6, aspect = 2/1)"
      ],
      "execution_count": 151,
      "outputs": [
        {
          "output_type": "execute_result",
          "data": {
            "text/plain": [
              "<seaborn.axisgrid.FacetGrid at 0x7f48057de950>"
            ]
          },
          "metadata": {},
          "execution_count": 151
        },
        {
          "output_type": "display_data",
          "data": {
            "image/png": "[encoded data removed]",
            "text/plain": [
              "<Figure size 864x432 with 1 Axes>"
            ]
          },
          "metadata": {}
        }
      ]
    },
    {
      "cell_type": "markdown",
      "metadata": {
        "id": "Eof_8ELVnJX3"
      },
      "source": [
        "При значении комнат 0 похоже на то, что количество комнат просто забыли вписать. При этом графи для нулевого количество комнат подходит для количества комнат от 1 до 3. Так, как в тестовой выборке также присутствуют значения Rooms равные 0, то удалять данную категорию не будем."
      ]
    },
    {
      "cell_type": "code",
      "metadata": {
        "colab": {
          "base_uri": "https://localhost:8080/",
          "height": 222
        },
        "id": "NU76zc0pvd6T",
        "outputId": "db5bdc8d-bae5-44ee-ca4e-4510e1c707b9"
      },
      "source": [
        "df_train = df_train.merge(group_sq_value, on = 'Rooms_cat', how = 'left', suffixes=['', '_gr_sq'])\n",
        "df_train.head()"
      ],
      "execution_count": 152,
      "outputs": [
        {
          "output_type": "execute_result",
          "data": {
            "text/html": [
              "<div>\n",
              "<style scoped>\n",
              "    .dataframe tbody tr th:only-of-type {\n",
              "        vertical-align: middle;\n",
              "    }\n",
              "\n",
              "    .dataframe tbody tr th {\n",
              "        vertical-align: top;\n",
              "    }\n",
              "\n",
              "    .dataframe thead th {\n",
              "        text-align: right;\n",
              "    }\n",
              "</style>\n",
              "<table border=\"1\" class=\"dataframe\">\n",
              "  <thead>\n",
              "    <tr style=\"text-align: right;\">\n",
              "      <th></th>\n",
              "      <th>DistrictId</th>\n",
              "      <th>Rooms</th>\n",
              "      <th>Square</th>\n",
              "      <th>LifeSquare</th>\n",
              "      <th>KitchenSquare</th>\n",
              "      <th>Floor</th>\n",
              "      <th>HouseFloor</th>\n",
              "      <th>HouseYear</th>\n",
              "      <th>Ecology_1</th>\n",
              "      <th>Ecology_2</th>\n",
              "      <th>Ecology_3</th>\n",
              "      <th>Social_1</th>\n",
              "      <th>Social_2</th>\n",
              "      <th>Social_3</th>\n",
              "      <th>Healthcare_1</th>\n",
              "      <th>Helthcare_2</th>\n",
              "      <th>Shops_1</th>\n",
              "      <th>Shops_2</th>\n",
              "      <th>Price</th>\n",
              "      <th>Rooms_cat</th>\n",
              "      <th>Square_gr_sq</th>\n",
              "    </tr>\n",
              "  </thead>\n",
              "  <tbody>\n",
              "    <tr>\n",
              "      <th>0</th>\n",
              "      <td>35</td>\n",
              "      <td>2.0</td>\n",
              "      <td>47.981561</td>\n",
              "      <td>29.442751</td>\n",
              "      <td>6.0</td>\n",
              "      <td>7</td>\n",
              "      <td>9.0</td>\n",
              "      <td>1969</td>\n",
              "      <td>0.089040</td>\n",
              "      <td>B</td>\n",
              "      <td>B</td>\n",
              "      <td>33</td>\n",
              "      <td>7976</td>\n",
              "      <td>5</td>\n",
              "      <td>NaN</td>\n",
              "      <td>0</td>\n",
              "      <td>11</td>\n",
              "      <td>B</td>\n",
              "      <td>184966.930730</td>\n",
              "      <td>2</td>\n",
              "      <td>55.593963</td>\n",
              "    </tr>\n",
              "    <tr>\n",
              "      <th>1</th>\n",
              "      <td>41</td>\n",
              "      <td>3.0</td>\n",
              "      <td>65.683640</td>\n",
              "      <td>40.049543</td>\n",
              "      <td>8.0</td>\n",
              "      <td>7</td>\n",
              "      <td>9.0</td>\n",
              "      <td>1978</td>\n",
              "      <td>0.000070</td>\n",
              "      <td>B</td>\n",
              "      <td>B</td>\n",
              "      <td>46</td>\n",
              "      <td>10309</td>\n",
              "      <td>1</td>\n",
              "      <td>240.0</td>\n",
              "      <td>1</td>\n",
              "      <td>16</td>\n",
              "      <td>B</td>\n",
              "      <td>300009.450063</td>\n",
              "      <td>3</td>\n",
              "      <td>77.231852</td>\n",
              "    </tr>\n",
              "    <tr>\n",
              "      <th>2</th>\n",
              "      <td>53</td>\n",
              "      <td>2.0</td>\n",
              "      <td>44.947953</td>\n",
              "      <td>29.197612</td>\n",
              "      <td>0.0</td>\n",
              "      <td>8</td>\n",
              "      <td>12.0</td>\n",
              "      <td>1968</td>\n",
              "      <td>0.049637</td>\n",
              "      <td>B</td>\n",
              "      <td>B</td>\n",
              "      <td>34</td>\n",
              "      <td>7759</td>\n",
              "      <td>0</td>\n",
              "      <td>229.0</td>\n",
              "      <td>1</td>\n",
              "      <td>3</td>\n",
              "      <td>B</td>\n",
              "      <td>220925.908524</td>\n",
              "      <td>2</td>\n",
              "      <td>55.593963</td>\n",
              "    </tr>\n",
              "    <tr>\n",
              "      <th>3</th>\n",
              "      <td>58</td>\n",
              "      <td>2.0</td>\n",
              "      <td>53.352981</td>\n",
              "      <td>52.731512</td>\n",
              "      <td>9.0</td>\n",
              "      <td>8</td>\n",
              "      <td>17.0</td>\n",
              "      <td>1977</td>\n",
              "      <td>0.437885</td>\n",
              "      <td>B</td>\n",
              "      <td>B</td>\n",
              "      <td>23</td>\n",
              "      <td>5735</td>\n",
              "      <td>3</td>\n",
              "      <td>1084.0</td>\n",
              "      <td>0</td>\n",
              "      <td>5</td>\n",
              "      <td>B</td>\n",
              "      <td>175616.227217</td>\n",
              "      <td>2</td>\n",
              "      <td>55.593963</td>\n",
              "    </tr>\n",
              "    <tr>\n",
              "      <th>4</th>\n",
              "      <td>99</td>\n",
              "      <td>1.0</td>\n",
              "      <td>39.649192</td>\n",
              "      <td>23.776169</td>\n",
              "      <td>7.0</td>\n",
              "      <td>11</td>\n",
              "      <td>12.0</td>\n",
              "      <td>1976</td>\n",
              "      <td>0.012339</td>\n",
              "      <td>B</td>\n",
              "      <td>B</td>\n",
              "      <td>35</td>\n",
              "      <td>5776</td>\n",
              "      <td>1</td>\n",
              "      <td>2078.0</td>\n",
              "      <td>2</td>\n",
              "      <td>4</td>\n",
              "      <td>B</td>\n",
              "      <td>150226.531644</td>\n",
              "      <td>1</td>\n",
              "      <td>40.372621</td>\n",
              "    </tr>\n",
              "  </tbody>\n",
              "</table>\n",
              "</div>"
            ],
            "text/plain": [
              "   DistrictId  Rooms     Square  ...          Price  Rooms_cat  Square_gr_sq\n",
              "0          35    2.0  47.981561  ...  184966.930730          2     55.593963\n",
              "1          41    3.0  65.683640  ...  300009.450063          3     77.231852\n",
              "2          53    2.0  44.947953  ...  220925.908524          2     55.593963\n",
              "3          58    2.0  53.352981  ...  175616.227217          2     55.593963\n",
              "4          99    1.0  39.649192  ...  150226.531644          1     40.372621\n",
              "\n",
              "[5 rows x 21 columns]"
            ]
          },
          "metadata": {},
          "execution_count": 152
        }
      ]
    },
    {
      "cell_type": "code",
      "metadata": {
        "id": "PI7j3O6Tv6FD"
      },
      "source": [
        "df_train.drop('Rooms_cat', axis = 1, inplace=True)"
      ],
      "execution_count": 153,
      "outputs": []
    },
    {
      "cell_type": "code",
      "metadata": {
        "colab": {
          "base_uri": "https://localhost:8080/",
          "height": 433
        },
        "id": "OjjRp1wfQ6MT",
        "outputId": "2421835f-b9e0-4d0f-8be2-75b85efe6256"
      },
      "source": [
        "with sns.axes_style(style='whitegrid'):\n",
        "  grid = sns.jointplot(df_train['LifeSquare'], df_train['Square'], kind='reg')\n",
        "grid.fig.set_figwidth(10)\n",
        "grid.fig.set_figheight(6)"
      ],
      "execution_count": 154,
      "outputs": [
        {
          "output_type": "display_data",
          "data": {
            "image/png": "[encoded data removed]",
            "text/plain": [
              "<Figure size 720x432 with 3 Axes>"
            ]
          },
          "metadata": {}
        }
      ]
    },
    {
      "cell_type": "markdown",
      "metadata": {
        "id": "W1l6YnDgU3Tq"
      },
      "source": [
        "Исходя из графика выше можно сделать вывод, что жилая площадь квартии прямопропорциональная общей площади. Однако, имеется большой всплеск в начале графика. Несмотря на это, попробуем с помощью модели линейной регресси заполнить прпоущенные значения."
      ]
    },
    {
      "cell_type": "markdown",
      "metadata": {
        "id": "5LA-mC3S9x6V"
      },
      "source": [
        "Очевидно, что заполнить жилую площадь квартиры медианой или какой-либо другой константой некорректно ввиду того, что в выборке с пропусками прусутствуют квартиры разной площадью с разным числом квартир, поэтому, для заполнения данного столбца воспользуемся моделью линейной регрессии, т.к. очевидно, что жилая площадь линейно зависит от общей площади квартиры."
      ]
    },
    {
      "cell_type": "markdown",
      "metadata": {
        "id": "MUx-ceCZ_Cps"
      },
      "source": [
        "## Обработка пропусков LifeSquare"
      ]
    },
    {
      "cell_type": "markdown",
      "metadata": {
        "id": "R03Vmtd__6jv"
      },
      "source": [
        "Для обучения модели из тренировочного датасета выделим отдельный датасет с полностью заполенными строками в столбце LifeSquare. Для обучения понадобятся только столбцы Rooms и Square, т.к. остальные параметры не влияют на жилую площадь."
      ]
    },
    {
      "cell_type": "code",
      "metadata": {
        "id": "UW2rpZnu9jYU"
      },
      "source": [
        "df_train_for_LSq = df_train[df_train['LifeSquare'].notnull()]\n",
        "df_train_for_LSq = df_train_for_LSq[['Rooms', 'Square', 'LifeSquare']]"
      ],
      "execution_count": 155,
      "outputs": []
    },
    {
      "cell_type": "code",
      "metadata": {
        "colab": {
          "base_uri": "https://localhost:8080/",
          "height": 294
        },
        "id": "dUojFLaZRYoB",
        "outputId": "e8ddbde7-8e8f-469e-9dbe-3affbbc046a8"
      },
      "source": [
        "df_train_for_LSq.describe()"
      ],
      "execution_count": 156,
      "outputs": [
        {
          "output_type": "execute_result",
          "data": {
            "text/html": [
              "<div>\n",
              "<style scoped>\n",
              "    .dataframe tbody tr th:only-of-type {\n",
              "        vertical-align: middle;\n",
              "    }\n",
              "\n",
              "    .dataframe tbody tr th {\n",
              "        vertical-align: top;\n",
              "    }\n",
              "\n",
              "    .dataframe thead th {\n",
              "        text-align: right;\n",
              "    }\n",
              "</style>\n",
              "<table border=\"1\" class=\"dataframe\">\n",
              "  <thead>\n",
              "    <tr style=\"text-align: right;\">\n",
              "      <th></th>\n",
              "      <th>Rooms</th>\n",
              "      <th>Square</th>\n",
              "      <th>LifeSquare</th>\n",
              "    </tr>\n",
              "  </thead>\n",
              "  <tbody>\n",
              "    <tr>\n",
              "      <th>count</th>\n",
              "      <td>7398.000000</td>\n",
              "      <td>7398.000000</td>\n",
              "      <td>7398.000000</td>\n",
              "    </tr>\n",
              "    <tr>\n",
              "      <th>mean</th>\n",
              "      <td>1.924709</td>\n",
              "      <td>54.876099</td>\n",
              "      <td>34.440363</td>\n",
              "    </tr>\n",
              "    <tr>\n",
              "      <th>std</th>\n",
              "      <td>0.822249</td>\n",
              "      <td>18.214461</td>\n",
              "      <td>15.812069</td>\n",
              "    </tr>\n",
              "    <tr>\n",
              "      <th>min</th>\n",
              "      <td>0.000000</td>\n",
              "      <td>2.377248</td>\n",
              "      <td>0.370619</td>\n",
              "    </tr>\n",
              "    <tr>\n",
              "      <th>25%</th>\n",
              "      <td>1.000000</td>\n",
              "      <td>41.199845</td>\n",
              "      <td>22.543371</td>\n",
              "    </tr>\n",
              "    <tr>\n",
              "      <th>50%</th>\n",
              "      <td>2.000000</td>\n",
              "      <td>50.420070</td>\n",
              "      <td>32.015673</td>\n",
              "    </tr>\n",
              "    <tr>\n",
              "      <th>75%</th>\n",
              "      <td>3.000000</td>\n",
              "      <td>64.430698</td>\n",
              "      <td>43.777482</td>\n",
              "    </tr>\n",
              "    <tr>\n",
              "      <th>max</th>\n",
              "      <td>5.000000</td>\n",
              "      <td>198.930182</td>\n",
              "      <td>161.504222</td>\n",
              "    </tr>\n",
              "  </tbody>\n",
              "</table>\n",
              "</div>"
            ],
            "text/plain": [
              "             Rooms       Square   LifeSquare\n",
              "count  7398.000000  7398.000000  7398.000000\n",
              "mean      1.924709    54.876099    34.440363\n",
              "std       0.822249    18.214461    15.812069\n",
              "min       0.000000     2.377248     0.370619\n",
              "25%       1.000000    41.199845    22.543371\n",
              "50%       2.000000    50.420070    32.015673\n",
              "75%       3.000000    64.430698    43.777482\n",
              "max       5.000000   198.930182   161.504222"
            ]
          },
          "metadata": {},
          "execution_count": 156
        }
      ]
    },
    {
      "cell_type": "code",
      "metadata": {
        "id": "Cq4NpuoVFLtk"
      },
      "source": [
        "#Создание тренировочной и тестовой выборок\n",
        "X_train, X_test, y_train, y_test = train_test_split(df_train_for_LSq[['Rooms', 'Square']], df_train_for_LSq['LifeSquare'], test_size = 0.2, random_state = 42)"
      ],
      "execution_count": 157,
      "outputs": []
    },
    {
      "cell_type": "code",
      "metadata": {
        "id": "wugMlhkCGUqL"
      },
      "source": [
        "#Создание и обучение модели\n",
        "lr = LinearRegression()"
      ],
      "execution_count": 158,
      "outputs": []
    },
    {
      "cell_type": "code",
      "metadata": {
        "colab": {
          "base_uri": "https://localhost:8080/"
        },
        "id": "rWaxn2UUNU1e",
        "outputId": "ddc67777-9419-4ae7-e296-a47a1628ab14"
      },
      "source": [
        "lr.fit(X_train, y_train)"
      ],
      "execution_count": 159,
      "outputs": [
        {
          "output_type": "execute_result",
          "data": {
            "text/plain": [
              "LinearRegression(copy_X=True, fit_intercept=True, n_jobs=None, normalize=False)"
            ]
          },
          "metadata": {},
          "execution_count": 159
        }
      ]
    },
    {
      "cell_type": "code",
      "metadata": {
        "id": "YufAmegYVf0b"
      },
      "source": [
        "y_pred = lr.predict(X_test)"
      ],
      "execution_count": 160,
      "outputs": []
    },
    {
      "cell_type": "code",
      "metadata": {
        "colab": {
          "base_uri": "https://localhost:8080/"
        },
        "id": "_n16Rq2IOvXD",
        "outputId": "7088745c-a463-4234-9b74-b5dc7b236bb2"
      },
      "source": [
        "r2_score(y_test, y_pred)"
      ],
      "execution_count": 161,
      "outputs": [
        {
          "output_type": "execute_result",
          "data": {
            "text/plain": [
              "0.6023286316508616"
            ]
          },
          "metadata": {},
          "execution_count": 161
        }
      ]
    },
    {
      "cell_type": "markdown",
      "metadata": {
        "id": "uRl2jcAOQ6XN"
      },
      "source": [
        "Показатель невысокий, но приемлем в нашем случае, т.к. ошибка при этом будет меньше, по сравнению с заполнением покзаателя константой."
      ]
    },
    {
      "cell_type": "code",
      "metadata": {
        "id": "PjwmMcowRKCE",
        "colab": {
          "base_uri": "https://localhost:8080/"
        },
        "outputId": "c5f94848-9d97-43bb-d12a-5aceed9b01b2"
      },
      "source": [
        "#Создаем выборку из незаполненных значений\n",
        "L_Sq_nan = df_train.loc[df_train['LifeSquare'].isna(), ['Rooms', 'Square']]\n",
        "L_Sq_nan.shape"
      ],
      "execution_count": 162,
      "outputs": [
        {
          "output_type": "execute_result",
          "data": {
            "text/plain": [
              "(2112, 2)"
            ]
          },
          "metadata": {},
          "execution_count": 162
        }
      ]
    },
    {
      "cell_type": "code",
      "metadata": {
        "id": "ZIO1Vt2crxz4"
      },
      "source": [
        "#С помощью обученной модели заполеним пропуски\n",
        "L_Sq_pred = lr.predict(L_Sq_nan)"
      ],
      "execution_count": 163,
      "outputs": []
    },
    {
      "cell_type": "code",
      "metadata": {
        "id": "L6NTB6P7sE5V"
      },
      "source": [
        "#Заполняем полученные значения в основном датасете\n",
        "df_train.loc[df_train['LifeSquare'].isna(), ['LifeSquare']] = L_Sq_pred"
      ],
      "execution_count": 164,
      "outputs": []
    },
    {
      "cell_type": "code",
      "metadata": {
        "colab": {
          "base_uri": "https://localhost:8080/"
        },
        "id": "KaXf35KqsuMB",
        "outputId": "7f97221d-c644-434b-80c6-ccdc32c41d25"
      },
      "source": [
        "#Проверим есть ли пропуски\n",
        "df_train['LifeSquare'].isna().sum()"
      ],
      "execution_count": 165,
      "outputs": [
        {
          "output_type": "execute_result",
          "data": {
            "text/plain": [
              "0"
            ]
          },
          "metadata": {},
          "execution_count": 165
        }
      ]
    },
    {
      "cell_type": "code",
      "metadata": {
        "colab": {
          "base_uri": "https://localhost:8080/"
        },
        "id": "hOCOA_dduflq",
        "outputId": "db7a4a25-fff8-4c53-dd5d-c487a8e0d9c6"
      },
      "source": [
        "df_train.info()"
      ],
      "execution_count": 166,
      "outputs": [
        {
          "output_type": "stream",
          "name": "stdout",
          "text": [
            "<class 'pandas.core.frame.DataFrame'>\n",
            "Int64Index: 9510 entries, 0 to 9509\n",
            "Data columns (total 20 columns):\n",
            " #   Column         Non-Null Count  Dtype  \n",
            "---  ------         --------------  -----  \n",
            " 0   DistrictId     9510 non-null   int64  \n",
            " 1   Rooms          9510 non-null   float64\n",
            " 2   Square         9510 non-null   float64\n",
            " 3   LifeSquare     9510 non-null   float64\n",
            " 4   KitchenSquare  9510 non-null   float64\n",
            " 5   Floor          9510 non-null   int64  \n",
            " 6   HouseFloor     9510 non-null   float64\n",
            " 7   HouseYear      9510 non-null   int64  \n",
            " 8   Ecology_1      9510 non-null   float64\n",
            " 9   Ecology_2      9510 non-null   object \n",
            " 10  Ecology_3      9510 non-null   object \n",
            " 11  Social_1       9510 non-null   int64  \n",
            " 12  Social_2       9510 non-null   int64  \n",
            " 13  Social_3       9510 non-null   int64  \n",
            " 14  Healthcare_1   5028 non-null   float64\n",
            " 15  Helthcare_2    9510 non-null   int64  \n",
            " 16  Shops_1        9510 non-null   int64  \n",
            " 17  Shops_2        9510 non-null   object \n",
            " 18  Price          9510 non-null   float64\n",
            " 19  Square_gr_sq   9510 non-null   float64\n",
            "dtypes: float64(9), int64(8), object(3)\n",
            "memory usage: 1.5+ MB\n"
          ]
        }
      ]
    },
    {
      "cell_type": "markdown",
      "metadata": {
        "id": "Cj9pfOIOwN8l"
      },
      "source": [
        "##Обработка пропусков Healthcare_1"
      ]
    },
    {
      "cell_type": "code",
      "metadata": {
        "colab": {
          "base_uri": "https://localhost:8080/",
          "height": 433
        },
        "id": "L6xmKzUwwR1V",
        "outputId": "2ac74d3d-32bb-4726-e417-9a3056b3583a"
      },
      "source": [
        "with sns.axes_style(style='whitegrid'):\n",
        "  grid = sns.jointplot(df_train['Helthcare_2'], df_train['Healthcare_1'])\n",
        "grid.fig.set_figwidth(10)\n",
        "grid.fig.set_figheight(6)"
      ],
      "execution_count": 167,
      "outputs": [
        {
          "output_type": "display_data",
          "data": {
            "image/png": "[encoded data removed]",
            "text/plain": [
              "<Figure size 720x432 with 3 Axes>"
            ]
          },
          "metadata": {}
        }
      ]
    },
    {
      "cell_type": "markdown",
      "metadata": {
        "id": "B6JARyQyxQsx"
      },
      "source": [
        "Создадим категориальный признак из Helthcare_2"
      ]
    },
    {
      "cell_type": "code",
      "metadata": {
        "colab": {
          "base_uri": "https://localhost:8080/"
        },
        "id": "WUrH9PmTxWKU",
        "outputId": "9a5c1970-19d6-4650-b772-6f9d6dd529fa"
      },
      "source": [
        "bins_hc2 = [-0.01, 0, 1.01, 2.01, 3.01, 4.01, 5.01, 6.01]\n",
        "label_hc2 = ['0', '1', '2', '3', '4', '5', '6']\n",
        "\n",
        "df_train['Healthcare2_cat'] = pd.cut(df_train['Helthcare_2'], bins = bins_hc2, labels = label_hc2)\n",
        "\n",
        "df_train['Healthcare2_cat'].value_counts()"
      ],
      "execution_count": 168,
      "outputs": [
        {
          "output_type": "execute_result",
          "data": {
            "text/plain": [
              "0    3900\n",
              "1    2134\n",
              "3    1601\n",
              "2    1121\n",
              "5     381\n",
              "4     281\n",
              "6      92\n",
              "Name: Healthcare2_cat, dtype: int64"
            ]
          },
          "metadata": {},
          "execution_count": 168
        }
      ]
    },
    {
      "cell_type": "code",
      "metadata": {
        "colab": {
          "base_uri": "https://localhost:8080/",
          "height": 451
        },
        "id": "ohwq3Ug3xsAf",
        "outputId": "7406657e-2462-4d37-92b7-bdecd9aafdea"
      },
      "source": [
        "sns.catplot(x='Healthcare_1', y='Healthcare2_cat', data= df_train, kind= 'box', size= 6, aspect = 2/1)"
      ],
      "execution_count": 169,
      "outputs": [
        {
          "output_type": "execute_result",
          "data": {
            "text/plain": [
              "<seaborn.axisgrid.FacetGrid at 0x7f48069d7150>"
            ]
          },
          "metadata": {},
          "execution_count": 169
        },
        {
          "output_type": "display_data",
          "data": {
            "image/png": "[encoded data removed]",
            "text/plain": [
              "<Figure size 864x432 with 1 Axes>"
            ]
          },
          "metadata": {}
        }
      ]
    },
    {
      "cell_type": "markdown",
      "metadata": {
        "id": "F5r3lkINykMH"
      },
      "source": [
        "Пропуски в Healthcare_1 заполним по медианому значение Healthcare_2.\n",
        "  "
      ]
    },
    {
      "cell_type": "code",
      "metadata": {
        "colab": {
          "base_uri": "https://localhost:8080/"
        },
        "id": "fWVCoeaEy9K9",
        "outputId": "a9ddb8a9-bd29-4c39-e060-cf21aea25eec"
      },
      "source": [
        "group_hc_value = df_train.groupby('Healthcare2_cat')['Healthcare_1'].median()\n",
        "group_hc_value"
      ],
      "execution_count": 170,
      "outputs": [
        {
          "output_type": "execute_result",
          "data": {
            "text/plain": [
              "Healthcare2_cat\n",
              "0     540.0\n",
              "1     620.0\n",
              "2     750.0\n",
              "3    1145.0\n",
              "4    1894.0\n",
              "5    1575.0\n",
              "6     645.0\n",
              "Name: Healthcare_1, dtype: float64"
            ]
          },
          "metadata": {},
          "execution_count": 170
        }
      ]
    },
    {
      "cell_type": "code",
      "metadata": {
        "id": "XwwJr9KuzWNU"
      },
      "source": [
        "df_train['Healthcare1_mean'] = df_train['Healthcare_1']\n",
        "df_train['Healthcare1_mean'].fillna(group_hc_value, inplace = True)\n"
      ],
      "execution_count": 171,
      "outputs": []
    },
    {
      "cell_type": "code",
      "metadata": {
        "colab": {
          "base_uri": "https://localhost:8080/"
        },
        "id": "HXMbgcYD3F54",
        "outputId": "d909b3cf-18cd-4562-b1ab-f9251d977068"
      },
      "source": [
        "group_hc_value['0']"
      ],
      "execution_count": 172,
      "outputs": [
        {
          "output_type": "execute_result",
          "data": {
            "text/plain": [
              "540.0"
            ]
          },
          "metadata": {},
          "execution_count": 172
        }
      ]
    },
    {
      "cell_type": "code",
      "metadata": {
        "colab": {
          "base_uri": "https://localhost:8080/"
        },
        "id": "8JRVpvFZ8nuo",
        "outputId": "e24d0a0d-f046-4c36-baad-4d54969f4e6c"
      },
      "source": [
        "dict(group_hc_value)"
      ],
      "execution_count": 173,
      "outputs": [
        {
          "output_type": "execute_result",
          "data": {
            "text/plain": [
              "{'0': 540.0,\n",
              " '1': 620.0,\n",
              " '2': 750.0,\n",
              " '3': 1145.0,\n",
              " '4': 1894.0,\n",
              " '5': 1575.0,\n",
              " '6': 645.0}"
            ]
          },
          "metadata": {},
          "execution_count": 173
        }
      ]
    },
    {
      "cell_type": "code",
      "metadata": {
        "colab": {
          "base_uri": "https://localhost:8080/",
          "height": 222
        },
        "id": "GLMEyq3Uz7tx",
        "outputId": "c00f384b-1254-4efe-bc11-dd09ced801f3"
      },
      "source": [
        "Hc_nan = df_train.loc[df_train[df_train['Healthcare_1'].isna()].index]\n",
        "Hc_nan.head()"
      ],
      "execution_count": 174,
      "outputs": [
        {
          "output_type": "execute_result",
          "data": {
            "text/html": [
              "<div>\n",
              "<style scoped>\n",
              "    .dataframe tbody tr th:only-of-type {\n",
              "        vertical-align: middle;\n",
              "    }\n",
              "\n",
              "    .dataframe tbody tr th {\n",
              "        vertical-align: top;\n",
              "    }\n",
              "\n",
              "    .dataframe thead th {\n",
              "        text-align: right;\n",
              "    }\n",
              "</style>\n",
              "<table border=\"1\" class=\"dataframe\">\n",
              "  <thead>\n",
              "    <tr style=\"text-align: right;\">\n",
              "      <th></th>\n",
              "      <th>DistrictId</th>\n",
              "      <th>Rooms</th>\n",
              "      <th>Square</th>\n",
              "      <th>LifeSquare</th>\n",
              "      <th>KitchenSquare</th>\n",
              "      <th>Floor</th>\n",
              "      <th>HouseFloor</th>\n",
              "      <th>HouseYear</th>\n",
              "      <th>Ecology_1</th>\n",
              "      <th>Ecology_2</th>\n",
              "      <th>Ecology_3</th>\n",
              "      <th>Social_1</th>\n",
              "      <th>Social_2</th>\n",
              "      <th>Social_3</th>\n",
              "      <th>Healthcare_1</th>\n",
              "      <th>Helthcare_2</th>\n",
              "      <th>Shops_1</th>\n",
              "      <th>Shops_2</th>\n",
              "      <th>Price</th>\n",
              "      <th>Square_gr_sq</th>\n",
              "      <th>Healthcare2_cat</th>\n",
              "      <th>Healthcare1_mean</th>\n",
              "    </tr>\n",
              "  </thead>\n",
              "  <tbody>\n",
              "    <tr>\n",
              "      <th>0</th>\n",
              "      <td>35</td>\n",
              "      <td>2.0</td>\n",
              "      <td>47.981561</td>\n",
              "      <td>29.442751</td>\n",
              "      <td>6.0</td>\n",
              "      <td>7</td>\n",
              "      <td>9.0</td>\n",
              "      <td>1969</td>\n",
              "      <td>0.089040</td>\n",
              "      <td>B</td>\n",
              "      <td>B</td>\n",
              "      <td>33</td>\n",
              "      <td>7976</td>\n",
              "      <td>5</td>\n",
              "      <td>NaN</td>\n",
              "      <td>0</td>\n",
              "      <td>11</td>\n",
              "      <td>B</td>\n",
              "      <td>184966.930730</td>\n",
              "      <td>55.593963</td>\n",
              "      <td>0</td>\n",
              "      <td>NaN</td>\n",
              "    </tr>\n",
              "    <tr>\n",
              "      <th>6</th>\n",
              "      <td>154</td>\n",
              "      <td>2.0</td>\n",
              "      <td>62.254114</td>\n",
              "      <td>37.160377</td>\n",
              "      <td>7.0</td>\n",
              "      <td>3</td>\n",
              "      <td>5.0</td>\n",
              "      <td>1960</td>\n",
              "      <td>0.460556</td>\n",
              "      <td>B</td>\n",
              "      <td>B</td>\n",
              "      <td>20</td>\n",
              "      <td>4386</td>\n",
              "      <td>14</td>\n",
              "      <td>NaN</td>\n",
              "      <td>1</td>\n",
              "      <td>5</td>\n",
              "      <td>B</td>\n",
              "      <td>296021.204377</td>\n",
              "      <td>55.593963</td>\n",
              "      <td>1</td>\n",
              "      <td>NaN</td>\n",
              "    </tr>\n",
              "    <tr>\n",
              "      <th>7</th>\n",
              "      <td>74</td>\n",
              "      <td>2.0</td>\n",
              "      <td>80.312926</td>\n",
              "      <td>48.809338</td>\n",
              "      <td>0.0</td>\n",
              "      <td>14</td>\n",
              "      <td>0.0</td>\n",
              "      <td>1977</td>\n",
              "      <td>0.075779</td>\n",
              "      <td>B</td>\n",
              "      <td>B</td>\n",
              "      <td>6</td>\n",
              "      <td>1437</td>\n",
              "      <td>3</td>\n",
              "      <td>NaN</td>\n",
              "      <td>0</td>\n",
              "      <td>2</td>\n",
              "      <td>B</td>\n",
              "      <td>221244.156664</td>\n",
              "      <td>55.593963</td>\n",
              "      <td>0</td>\n",
              "      <td>NaN</td>\n",
              "    </tr>\n",
              "    <tr>\n",
              "      <th>8</th>\n",
              "      <td>1</td>\n",
              "      <td>2.0</td>\n",
              "      <td>64.511437</td>\n",
              "      <td>40.022132</td>\n",
              "      <td>1.0</td>\n",
              "      <td>9</td>\n",
              "      <td>17.0</td>\n",
              "      <td>1977</td>\n",
              "      <td>0.007122</td>\n",
              "      <td>B</td>\n",
              "      <td>B</td>\n",
              "      <td>1</td>\n",
              "      <td>264</td>\n",
              "      <td>0</td>\n",
              "      <td>NaN</td>\n",
              "      <td>0</td>\n",
              "      <td>1</td>\n",
              "      <td>B</td>\n",
              "      <td>229102.795999</td>\n",
              "      <td>55.593963</td>\n",
              "      <td>0</td>\n",
              "      <td>NaN</td>\n",
              "    </tr>\n",
              "    <tr>\n",
              "      <th>9</th>\n",
              "      <td>23</td>\n",
              "      <td>1.0</td>\n",
              "      <td>46.461409</td>\n",
              "      <td>18.915552</td>\n",
              "      <td>8.0</td>\n",
              "      <td>13</td>\n",
              "      <td>17.0</td>\n",
              "      <td>2014</td>\n",
              "      <td>0.075779</td>\n",
              "      <td>B</td>\n",
              "      <td>B</td>\n",
              "      <td>6</td>\n",
              "      <td>1437</td>\n",
              "      <td>3</td>\n",
              "      <td>NaN</td>\n",
              "      <td>0</td>\n",
              "      <td>2</td>\n",
              "      <td>B</td>\n",
              "      <td>95380.220993</td>\n",
              "      <td>40.372621</td>\n",
              "      <td>0</td>\n",
              "      <td>NaN</td>\n",
              "    </tr>\n",
              "  </tbody>\n",
              "</table>\n",
              "</div>"
            ],
            "text/plain": [
              "   DistrictId  Rooms     Square  ...  Square_gr_sq  Healthcare2_cat  Healthcare1_mean\n",
              "0          35    2.0  47.981561  ...     55.593963                0               NaN\n",
              "6         154    2.0  62.254114  ...     55.593963                1               NaN\n",
              "7          74    2.0  80.312926  ...     55.593963                0               NaN\n",
              "8           1    2.0  64.511437  ...     55.593963                0               NaN\n",
              "9          23    1.0  46.461409  ...     40.372621                0               NaN\n",
              "\n",
              "[5 rows x 22 columns]"
            ]
          },
          "metadata": {},
          "execution_count": 174
        }
      ]
    },
    {
      "cell_type": "code",
      "metadata": {
        "id": "y2Aj9BX-73Yg"
      },
      "source": [
        "for i in Hc_nan.index:\n",
        "  Hc_nan.loc[i, 'Helthcare_2']\n",
        "  for key, value in group_hc_value.items():\n",
        "    if str(Hc_nan.loc[i, 'Helthcare_2']) == key:\n",
        "      Hc_nan.loc[i, 'Healthcare_1'] = value\n",
        "      "
      ],
      "execution_count": 175,
      "outputs": []
    },
    {
      "cell_type": "code",
      "metadata": {
        "colab": {
          "base_uri": "https://localhost:8080/",
          "height": 222
        },
        "id": "qsiCmjkC9h83",
        "outputId": "72dc89ab-f13f-4452-fc5b-e176d63bcd62"
      },
      "source": [
        "Hc_nan.head()"
      ],
      "execution_count": 176,
      "outputs": [
        {
          "output_type": "execute_result",
          "data": {
            "text/html": [
              "<div>\n",
              "<style scoped>\n",
              "    .dataframe tbody tr th:only-of-type {\n",
              "        vertical-align: middle;\n",
              "    }\n",
              "\n",
              "    .dataframe tbody tr th {\n",
              "        vertical-align: top;\n",
              "    }\n",
              "\n",
              "    .dataframe thead th {\n",
              "        text-align: right;\n",
              "    }\n",
              "</style>\n",
              "<table border=\"1\" class=\"dataframe\">\n",
              "  <thead>\n",
              "    <tr style=\"text-align: right;\">\n",
              "      <th></th>\n",
              "      <th>DistrictId</th>\n",
              "      <th>Rooms</th>\n",
              "      <th>Square</th>\n",
              "      <th>LifeSquare</th>\n",
              "      <th>KitchenSquare</th>\n",
              "      <th>Floor</th>\n",
              "      <th>HouseFloor</th>\n",
              "      <th>HouseYear</th>\n",
              "      <th>Ecology_1</th>\n",
              "      <th>Ecology_2</th>\n",
              "      <th>Ecology_3</th>\n",
              "      <th>Social_1</th>\n",
              "      <th>Social_2</th>\n",
              "      <th>Social_3</th>\n",
              "      <th>Healthcare_1</th>\n",
              "      <th>Helthcare_2</th>\n",
              "      <th>Shops_1</th>\n",
              "      <th>Shops_2</th>\n",
              "      <th>Price</th>\n",
              "      <th>Square_gr_sq</th>\n",
              "      <th>Healthcare2_cat</th>\n",
              "      <th>Healthcare1_mean</th>\n",
              "    </tr>\n",
              "  </thead>\n",
              "  <tbody>\n",
              "    <tr>\n",
              "      <th>0</th>\n",
              "      <td>35</td>\n",
              "      <td>2.0</td>\n",
              "      <td>47.981561</td>\n",
              "      <td>29.442751</td>\n",
              "      <td>6.0</td>\n",
              "      <td>7</td>\n",
              "      <td>9.0</td>\n",
              "      <td>1969</td>\n",
              "      <td>0.089040</td>\n",
              "      <td>B</td>\n",
              "      <td>B</td>\n",
              "      <td>33</td>\n",
              "      <td>7976</td>\n",
              "      <td>5</td>\n",
              "      <td>540.0</td>\n",
              "      <td>0</td>\n",
              "      <td>11</td>\n",
              "      <td>B</td>\n",
              "      <td>184966.930730</td>\n",
              "      <td>55.593963</td>\n",
              "      <td>0</td>\n",
              "      <td>NaN</td>\n",
              "    </tr>\n",
              "    <tr>\n",
              "      <th>6</th>\n",
              "      <td>154</td>\n",
              "      <td>2.0</td>\n",
              "      <td>62.254114</td>\n",
              "      <td>37.160377</td>\n",
              "      <td>7.0</td>\n",
              "      <td>3</td>\n",
              "      <td>5.0</td>\n",
              "      <td>1960</td>\n",
              "      <td>0.460556</td>\n",
              "      <td>B</td>\n",
              "      <td>B</td>\n",
              "      <td>20</td>\n",
              "      <td>4386</td>\n",
              "      <td>14</td>\n",
              "      <td>620.0</td>\n",
              "      <td>1</td>\n",
              "      <td>5</td>\n",
              "      <td>B</td>\n",
              "      <td>296021.204377</td>\n",
              "      <td>55.593963</td>\n",
              "      <td>1</td>\n",
              "      <td>NaN</td>\n",
              "    </tr>\n",
              "    <tr>\n",
              "      <th>7</th>\n",
              "      <td>74</td>\n",
              "      <td>2.0</td>\n",
              "      <td>80.312926</td>\n",
              "      <td>48.809338</td>\n",
              "      <td>0.0</td>\n",
              "      <td>14</td>\n",
              "      <td>0.0</td>\n",
              "      <td>1977</td>\n",
              "      <td>0.075779</td>\n",
              "      <td>B</td>\n",
              "      <td>B</td>\n",
              "      <td>6</td>\n",
              "      <td>1437</td>\n",
              "      <td>3</td>\n",
              "      <td>540.0</td>\n",
              "      <td>0</td>\n",
              "      <td>2</td>\n",
              "      <td>B</td>\n",
              "      <td>221244.156664</td>\n",
              "      <td>55.593963</td>\n",
              "      <td>0</td>\n",
              "      <td>NaN</td>\n",
              "    </tr>\n",
              "    <tr>\n",
              "      <th>8</th>\n",
              "      <td>1</td>\n",
              "      <td>2.0</td>\n",
              "      <td>64.511437</td>\n",
              "      <td>40.022132</td>\n",
              "      <td>1.0</td>\n",
              "      <td>9</td>\n",
              "      <td>17.0</td>\n",
              "      <td>1977</td>\n",
              "      <td>0.007122</td>\n",
              "      <td>B</td>\n",
              "      <td>B</td>\n",
              "      <td>1</td>\n",
              "      <td>264</td>\n",
              "      <td>0</td>\n",
              "      <td>540.0</td>\n",
              "      <td>0</td>\n",
              "      <td>1</td>\n",
              "      <td>B</td>\n",
              "      <td>229102.795999</td>\n",
              "      <td>55.593963</td>\n",
              "      <td>0</td>\n",
              "      <td>NaN</td>\n",
              "    </tr>\n",
              "    <tr>\n",
              "      <th>9</th>\n",
              "      <td>23</td>\n",
              "      <td>1.0</td>\n",
              "      <td>46.461409</td>\n",
              "      <td>18.915552</td>\n",
              "      <td>8.0</td>\n",
              "      <td>13</td>\n",
              "      <td>17.0</td>\n",
              "      <td>2014</td>\n",
              "      <td>0.075779</td>\n",
              "      <td>B</td>\n",
              "      <td>B</td>\n",
              "      <td>6</td>\n",
              "      <td>1437</td>\n",
              "      <td>3</td>\n",
              "      <td>540.0</td>\n",
              "      <td>0</td>\n",
              "      <td>2</td>\n",
              "      <td>B</td>\n",
              "      <td>95380.220993</td>\n",
              "      <td>40.372621</td>\n",
              "      <td>0</td>\n",
              "      <td>NaN</td>\n",
              "    </tr>\n",
              "  </tbody>\n",
              "</table>\n",
              "</div>"
            ],
            "text/plain": [
              "   DistrictId  Rooms     Square  ...  Square_gr_sq  Healthcare2_cat  Healthcare1_mean\n",
              "0          35    2.0  47.981561  ...     55.593963                0               NaN\n",
              "6         154    2.0  62.254114  ...     55.593963                1               NaN\n",
              "7          74    2.0  80.312926  ...     55.593963                0               NaN\n",
              "8           1    2.0  64.511437  ...     55.593963                0               NaN\n",
              "9          23    1.0  46.461409  ...     40.372621                0               NaN\n",
              "\n",
              "[5 rows x 22 columns]"
            ]
          },
          "metadata": {},
          "execution_count": 176
        }
      ]
    },
    {
      "cell_type": "code",
      "metadata": {
        "id": "M1mhUtL4Dn3r"
      },
      "source": [
        "#Удаляем часть таблицы, где healthcare_1 is null\n",
        "df_train.drop(df_train[df_train['Healthcare_1'].isna()].index, inplace=True)"
      ],
      "execution_count": 177,
      "outputs": []
    },
    {
      "cell_type": "code",
      "metadata": {
        "colab": {
          "base_uri": "https://localhost:8080/"
        },
        "id": "wCT7hHttthMG",
        "outputId": "4e91892f-562e-4293-c546-b41aef4363c0"
      },
      "source": [
        "df_train.shape"
      ],
      "execution_count": 178,
      "outputs": [
        {
          "output_type": "execute_result",
          "data": {
            "text/plain": [
              "(5028, 22)"
            ]
          },
          "metadata": {},
          "execution_count": 178
        }
      ]
    },
    {
      "cell_type": "code",
      "metadata": {
        "colab": {
          "base_uri": "https://localhost:8080/"
        },
        "id": "DUuOeQRUtjuG",
        "outputId": "a4205a36-f7b4-426e-b920-83d33ce078d3"
      },
      "source": [
        "#Добавляем в таблицу наши исправленные данные\n",
        "df_train = df_train.append(Hc_nan)\n",
        "df_train.info()"
      ],
      "execution_count": 179,
      "outputs": [
        {
          "output_type": "stream",
          "name": "stdout",
          "text": [
            "<class 'pandas.core.frame.DataFrame'>\n",
            "Int64Index: 9510 entries, 1 to 9507\n",
            "Data columns (total 22 columns):\n",
            " #   Column            Non-Null Count  Dtype   \n",
            "---  ------            --------------  -----   \n",
            " 0   DistrictId        9510 non-null   int64   \n",
            " 1   Rooms             9510 non-null   float64 \n",
            " 2   Square            9510 non-null   float64 \n",
            " 3   LifeSquare        9510 non-null   float64 \n",
            " 4   KitchenSquare     9510 non-null   float64 \n",
            " 5   Floor             9510 non-null   int64   \n",
            " 6   HouseFloor        9510 non-null   float64 \n",
            " 7   HouseYear         9510 non-null   int64   \n",
            " 8   Ecology_1         9510 non-null   float64 \n",
            " 9   Ecology_2         9510 non-null   object  \n",
            " 10  Ecology_3         9510 non-null   object  \n",
            " 11  Social_1          9510 non-null   int64   \n",
            " 12  Social_2          9510 non-null   int64   \n",
            " 13  Social_3          9510 non-null   int64   \n",
            " 14  Healthcare_1      9510 non-null   float64 \n",
            " 15  Helthcare_2       9510 non-null   int64   \n",
            " 16  Shops_1           9510 non-null   int64   \n",
            " 17  Shops_2           9510 non-null   object  \n",
            " 18  Price             9510 non-null   float64 \n",
            " 19  Square_gr_sq      9510 non-null   float64 \n",
            " 20  Healthcare2_cat   9510 non-null   category\n",
            " 21  Healthcare1_mean  5028 non-null   float64 \n",
            "dtypes: category(1), float64(10), int64(8), object(3)\n",
            "memory usage: 1.6+ MB\n"
          ]
        }
      ]
    },
    {
      "cell_type": "code",
      "metadata": {
        "id": "yaWGLhGfuUeC"
      },
      "source": [
        "#Удаляем вспомогательный столбец Healthcare1_mean\n",
        "df_train.drop('Healthcare1_mean', axis = 1, inplace=True)"
      ],
      "execution_count": 180,
      "outputs": []
    },
    {
      "cell_type": "code",
      "metadata": {
        "colab": {
          "base_uri": "https://localhost:8080/"
        },
        "id": "bPntqF-3urYi",
        "outputId": "a92f150a-10a6-4144-db9d-8bd201b5d675"
      },
      "source": [
        "df_train.info()"
      ],
      "execution_count": 181,
      "outputs": [
        {
          "output_type": "stream",
          "name": "stdout",
          "text": [
            "<class 'pandas.core.frame.DataFrame'>\n",
            "Int64Index: 9510 entries, 1 to 9507\n",
            "Data columns (total 21 columns):\n",
            " #   Column           Non-Null Count  Dtype   \n",
            "---  ------           --------------  -----   \n",
            " 0   DistrictId       9510 non-null   int64   \n",
            " 1   Rooms            9510 non-null   float64 \n",
            " 2   Square           9510 non-null   float64 \n",
            " 3   LifeSquare       9510 non-null   float64 \n",
            " 4   KitchenSquare    9510 non-null   float64 \n",
            " 5   Floor            9510 non-null   int64   \n",
            " 6   HouseFloor       9510 non-null   float64 \n",
            " 7   HouseYear        9510 non-null   int64   \n",
            " 8   Ecology_1        9510 non-null   float64 \n",
            " 9   Ecology_2        9510 non-null   object  \n",
            " 10  Ecology_3        9510 non-null   object  \n",
            " 11  Social_1         9510 non-null   int64   \n",
            " 12  Social_2         9510 non-null   int64   \n",
            " 13  Social_3         9510 non-null   int64   \n",
            " 14  Healthcare_1     9510 non-null   float64 \n",
            " 15  Helthcare_2      9510 non-null   int64   \n",
            " 16  Shops_1          9510 non-null   int64   \n",
            " 17  Shops_2          9510 non-null   object  \n",
            " 18  Price            9510 non-null   float64 \n",
            " 19  Square_gr_sq     9510 non-null   float64 \n",
            " 20  Healthcare2_cat  9510 non-null   category\n",
            "dtypes: category(1), float64(9), int64(8), object(3)\n",
            "memory usage: 1.5+ MB\n"
          ]
        }
      ]
    },
    {
      "cell_type": "code",
      "metadata": {
        "colab": {
          "base_uri": "https://localhost:8080/",
          "height": 451
        },
        "id": "yYQ6S5xVvpzU",
        "outputId": "fc6ca4b0-0dde-4643-fc42-7b9f61060932"
      },
      "source": [
        "sns.catplot(x='Healthcare_1', y='Healthcare2_cat', data= df_train, kind= 'box', size= 6, aspect = 2/1)"
      ],
      "execution_count": 182,
      "outputs": [
        {
          "output_type": "execute_result",
          "data": {
            "text/plain": [
              "<seaborn.axisgrid.FacetGrid at 0x7f480570ee50>"
            ]
          },
          "metadata": {},
          "execution_count": 182
        },
        {
          "output_type": "display_data",
          "data": {
            "image/png": "[encoded data removed]",
            "text/plain": [
              "<Figure size 864x432 with 1 Axes>"
            ]
          },
          "metadata": {}
        }
      ]
    },
    {
      "cell_type": "markdown",
      "metadata": {
        "id": "LV1WOEbCxWdE"
      },
      "source": [
        "Поведение признака ухудшилось попробуем выполнить трансформацию признака. Для этого из значения признака извлечем корень четвертой степени."
      ]
    },
    {
      "cell_type": "code",
      "metadata": {
        "id": "neAsSK7VxbJr"
      },
      "source": [
        "df_train['Healthcare_1_log'] = (df_train['Healthcare_1'])**(1/4)"
      ],
      "execution_count": 183,
      "outputs": []
    },
    {
      "cell_type": "code",
      "metadata": {
        "colab": {
          "base_uri": "https://localhost:8080/",
          "height": 451
        },
        "id": "WrIsSsmgxy3P",
        "outputId": "2147c251-ec8c-4640-dd82-1f3edbcac940"
      },
      "source": [
        "sns.catplot(x='Healthcare_1_log', y='Healthcare2_cat', data= df_train, kind= 'box', size= 6, aspect = 2/1)"
      ],
      "execution_count": 184,
      "outputs": [
        {
          "output_type": "execute_result",
          "data": {
            "text/plain": [
              "<seaborn.axisgrid.FacetGrid at 0x7f4805a6d490>"
            ]
          },
          "metadata": {},
          "execution_count": 184
        },
        {
          "output_type": "display_data",
          "data": {
            "image/png": "[encoded data removed]",
            "text/plain": [
              "<Figure size 864x432 with 1 Axes>"
            ]
          },
          "metadata": {}
        }
      ]
    },
    {
      "cell_type": "code",
      "metadata": {
        "colab": {
          "base_uri": "https://localhost:8080/",
          "height": 314
        },
        "id": "CJ4y-lKqwP0A",
        "outputId": "80c88f0b-5c2c-4c2e-e51c-48128ace4372"
      },
      "source": [
        "df_train.describe()"
      ],
      "execution_count": 389,
      "outputs": [
        {
          "output_type": "execute_result",
          "data": {
            "text/html": [
              "<div>\n",
              "<style scoped>\n",
              "    .dataframe tbody tr th:only-of-type {\n",
              "        vertical-align: middle;\n",
              "    }\n",
              "\n",
              "    .dataframe tbody tr th {\n",
              "        vertical-align: top;\n",
              "    }\n",
              "\n",
              "    .dataframe thead th {\n",
              "        text-align: right;\n",
              "    }\n",
              "</style>\n",
              "<table border=\"1\" class=\"dataframe\">\n",
              "  <thead>\n",
              "    <tr style=\"text-align: right;\">\n",
              "      <th></th>\n",
              "      <th>DistrictId</th>\n",
              "      <th>Rooms</th>\n",
              "      <th>Square</th>\n",
              "      <th>LifeSquare</th>\n",
              "      <th>KitchenSquare</th>\n",
              "      <th>Floor</th>\n",
              "      <th>HouseFloor</th>\n",
              "      <th>HouseYear</th>\n",
              "      <th>Ecology_1</th>\n",
              "      <th>Social_1</th>\n",
              "      <th>Social_2</th>\n",
              "      <th>Social_3</th>\n",
              "      <th>Healthcare_1</th>\n",
              "      <th>Helthcare_2</th>\n",
              "      <th>Shops_1</th>\n",
              "      <th>Price</th>\n",
              "      <th>Square_gr_sq</th>\n",
              "    </tr>\n",
              "  </thead>\n",
              "  <tbody>\n",
              "    <tr>\n",
              "      <th>count</th>\n",
              "      <td>9510.000000</td>\n",
              "      <td>9510.000000</td>\n",
              "      <td>9510.000000</td>\n",
              "      <td>9510.000000</td>\n",
              "      <td>9510.000000</td>\n",
              "      <td>9510.000000</td>\n",
              "      <td>9510.000000</td>\n",
              "      <td>9.510000e+03</td>\n",
              "      <td>9510.000000</td>\n",
              "      <td>9510.000000</td>\n",
              "      <td>9510.000000</td>\n",
              "      <td>9510.000000</td>\n",
              "      <td>9510.000000</td>\n",
              "      <td>9510.000000</td>\n",
              "      <td>9510.000000</td>\n",
              "      <td>9510.000000</td>\n",
              "      <td>9510.000000</td>\n",
              "    </tr>\n",
              "    <tr>\n",
              "      <th>mean</th>\n",
              "      <td>51.296635</td>\n",
              "      <td>1.892324</td>\n",
              "      <td>56.035102</td>\n",
              "      <td>34.986476</td>\n",
              "      <td>6.398212</td>\n",
              "      <td>8.456572</td>\n",
              "      <td>12.551420</td>\n",
              "      <td>4.092723e+03</td>\n",
              "      <td>0.119646</td>\n",
              "      <td>25.182019</td>\n",
              "      <td>5449.377392</td>\n",
              "      <td>7.967508</td>\n",
              "      <td>914.016930</td>\n",
              "      <td>1.341746</td>\n",
              "      <td>4.265195</td>\n",
              "      <td>214838.599671</td>\n",
              "      <td>55.621817</td>\n",
              "    </tr>\n",
              "    <tr>\n",
              "      <th>std</th>\n",
              "      <td>44.050397</td>\n",
              "      <td>0.812002</td>\n",
              "      <td>18.642424</td>\n",
              "      <td>15.228967</td>\n",
              "      <td>29.213109</td>\n",
              "      <td>5.173746</td>\n",
              "      <td>6.567785</td>\n",
              "      <td>2.056008e+05</td>\n",
              "      <td>0.119368</td>\n",
              "      <td>17.430872</td>\n",
              "      <td>3991.307423</td>\n",
              "      <td>23.392446</td>\n",
              "      <td>806.875284</td>\n",
              "      <td>1.494524</td>\n",
              "      <td>4.765675</td>\n",
              "      <td>92496.326078</td>\n",
              "      <td>14.957155</td>\n",
              "    </tr>\n",
              "    <tr>\n",
              "      <th>min</th>\n",
              "      <td>0.000000</td>\n",
              "      <td>0.000000</td>\n",
              "      <td>2.377248</td>\n",
              "      <td>0.370619</td>\n",
              "      <td>0.000000</td>\n",
              "      <td>1.000000</td>\n",
              "      <td>0.000000</td>\n",
              "      <td>1.910000e+03</td>\n",
              "      <td>0.000000</td>\n",
              "      <td>0.000000</td>\n",
              "      <td>168.000000</td>\n",
              "      <td>0.000000</td>\n",
              "      <td>0.000000</td>\n",
              "      <td>0.000000</td>\n",
              "      <td>0.000000</td>\n",
              "      <td>59174.778028</td>\n",
              "      <td>40.372621</td>\n",
              "    </tr>\n",
              "    <tr>\n",
              "      <th>25%</th>\n",
              "      <td>21.000000</td>\n",
              "      <td>1.000000</td>\n",
              "      <td>41.811354</td>\n",
              "      <td>23.426309</td>\n",
              "      <td>1.000000</td>\n",
              "      <td>4.000000</td>\n",
              "      <td>9.000000</td>\n",
              "      <td>1.973000e+03</td>\n",
              "      <td>0.019509</td>\n",
              "      <td>8.000000</td>\n",
              "      <td>1892.000000</td>\n",
              "      <td>0.000000</td>\n",
              "      <td>540.000000</td>\n",
              "      <td>0.000000</td>\n",
              "      <td>1.000000</td>\n",
              "      <td>155147.927408</td>\n",
              "      <td>40.372621</td>\n",
              "    </tr>\n",
              "    <tr>\n",
              "      <th>50%</th>\n",
              "      <td>37.000000</td>\n",
              "      <td>2.000000</td>\n",
              "      <td>52.432000</td>\n",
              "      <td>32.657097</td>\n",
              "      <td>6.000000</td>\n",
              "      <td>7.000000</td>\n",
              "      <td>12.000000</td>\n",
              "      <td>1.977000e+03</td>\n",
              "      <td>0.075779</td>\n",
              "      <td>25.000000</td>\n",
              "      <td>5288.000000</td>\n",
              "      <td>2.000000</td>\n",
              "      <td>620.000000</td>\n",
              "      <td>1.000000</td>\n",
              "      <td>3.000000</td>\n",
              "      <td>192947.952475</td>\n",
              "      <td>55.593963</td>\n",
              "    </tr>\n",
              "    <tr>\n",
              "      <th>75%</th>\n",
              "      <td>78.000000</td>\n",
              "      <td>2.000000</td>\n",
              "      <td>65.831162</td>\n",
              "      <td>43.679753</td>\n",
              "      <td>9.000000</td>\n",
              "      <td>12.000000</td>\n",
              "      <td>17.000000</td>\n",
              "      <td>1.999000e+03</td>\n",
              "      <td>0.195781</td>\n",
              "      <td>36.000000</td>\n",
              "      <td>7425.000000</td>\n",
              "      <td>5.000000</td>\n",
              "      <td>1130.000000</td>\n",
              "      <td>2.000000</td>\n",
              "      <td>6.000000</td>\n",
              "      <td>250029.755137</td>\n",
              "      <td>55.593963</td>\n",
              "    </tr>\n",
              "    <tr>\n",
              "      <th>max</th>\n",
              "      <td>209.000000</td>\n",
              "      <td>5.000000</td>\n",
              "      <td>198.930182</td>\n",
              "      <td>161.504222</td>\n",
              "      <td>2014.000000</td>\n",
              "      <td>42.000000</td>\n",
              "      <td>99.000000</td>\n",
              "      <td>2.005201e+07</td>\n",
              "      <td>0.521867</td>\n",
              "      <td>74.000000</td>\n",
              "      <td>19083.000000</td>\n",
              "      <td>141.000000</td>\n",
              "      <td>4849.000000</td>\n",
              "      <td>6.000000</td>\n",
              "      <td>23.000000</td>\n",
              "      <td>633233.466570</td>\n",
              "      <td>114.313752</td>\n",
              "    </tr>\n",
              "  </tbody>\n",
              "</table>\n",
              "</div>"
            ],
            "text/plain": [
              "        DistrictId        Rooms  ...          Price  Square_gr_sq\n",
              "count  9510.000000  9510.000000  ...    9510.000000   9510.000000\n",
              "mean     51.296635     1.892324  ...  214838.599671     55.621817\n",
              "std      44.050397     0.812002  ...   92496.326078     14.957155\n",
              "min       0.000000     0.000000  ...   59174.778028     40.372621\n",
              "25%      21.000000     1.000000  ...  155147.927408     40.372621\n",
              "50%      37.000000     2.000000  ...  192947.952475     55.593963\n",
              "75%      78.000000     2.000000  ...  250029.755137     55.593963\n",
              "max     209.000000     5.000000  ...  633233.466570    114.313752\n",
              "\n",
              "[8 rows x 17 columns]"
            ]
          },
          "metadata": {},
          "execution_count": 389
        }
      ]
    },
    {
      "cell_type": "code",
      "metadata": {
        "id": "EurNjDIKwWGy"
      },
      "source": [
        ""
      ],
      "execution_count": null,
      "outputs": []
    }
  ]
}